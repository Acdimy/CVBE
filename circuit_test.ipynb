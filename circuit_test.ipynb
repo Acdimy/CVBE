{
 "cells": [
  {
   "cell_type": "code",
   "execution_count": 1,
   "metadata": {},
   "outputs": [],
   "source": [
    "import numpy as np\n",
    "from qiskit import QuantumCircuit\n",
    "from qiskit.quantum_info.operators import Operator\n",
    "from z3 import *\n",
    "import time\n",
    "from qiskit import *"
   ]
  },
  {
   "cell_type": "code",
   "execution_count": 3,
   "metadata": {},
   "outputs": [],
   "source": [
    "circ0 = QuantumCircuit().from_qasm_file('benchmark/qft_4.qasm')"
   ]
  },
  {
   "cell_type": "code",
   "execution_count": 4,
   "metadata": {
    "scrolled": false
   },
   "outputs": [
    {
     "data": {
      "image/png": "[encoded data removed]",
      "text/plain": [
       "<Figure size 1049.8x325.08 with 1 Axes>"
      ]
     },
     "execution_count": 4,
     "metadata": {},
     "output_type": "execute_result"
    }
   ],
   "source": [
    "circ0.draw(\"mpl\")"
   ]
  },
  {
   "cell_type": "code",
   "execution_count": 5,
   "metadata": {},
   "outputs": [
    {
     "name": "stdout",
     "output_type": "stream",
     "text": [
      "C1 construction: 0.004000\n",
      "Operator([[ 0.25 +0.j   ,  0.25 -0.j   ,  0.25 -0.j   ,  0.25 -0.j   ,\n",
      "            0.25 -0.j   ,  0.25 -0.j   ,  0.25 -0.j   ,  0.25 -0.j   ,\n",
      "            0.25 -0.j   ,  0.25 -0.j   ,  0.25 -0.j   ,  0.25 -0.j   ,\n",
      "            0.25 -0.j   ,  0.25 -0.j   ,  0.25 -0.j   ,  0.25 -0.j   ],\n",
      "          [ 0.25 +0.j   , -0.25 +0.j   ,  0.   +0.25j , -0.   -0.25j ,\n",
      "            0.177+0.177j, -0.177-0.177j, -0.177+0.177j,  0.177-0.177j,\n",
      "            0.231+0.096j, -0.231-0.096j, -0.096+0.231j,  0.096-0.231j,\n",
      "            0.096+0.231j, -0.096-0.231j, -0.231+0.096j,  0.231-0.096j],\n",
      "          [ 0.25 +0.j   ,  0.25 -0.j   , -0.25 +0.j   , -0.25 +0.j   ,\n",
      "            0.   +0.25j ,  0.   +0.25j , -0.   -0.25j , -0.   -0.25j ,\n",
      "            0.177+0.177j,  0.177+0.177j, -0.177-0.177j, -0.177-0.177j,\n",
      "           -0.177+0.177j, -0.177+0.177j,  0.177-0.177j,  0.177-0.177j],\n",
      "          [ 0.25 +0.j   , -0.25 +0.j   , -0.   -0.25j ,  0.   +0.25j ,\n",
      "           -0.177+0.177j,  0.177-0.177j,  0.177+0.177j, -0.177-0.177j,\n",
      "            0.096+0.231j, -0.096-0.231j,  0.231-0.096j, -0.231+0.096j,\n",
      "           -0.231-0.096j,  0.231+0.096j, -0.096+0.231j,  0.096-0.231j],\n",
      "          [ 0.25 +0.j   ,  0.25 -0.j   ,  0.25 -0.j   ,  0.25 -0.j   ,\n",
      "           -0.25 +0.j   , -0.25 +0.j   , -0.25 +0.j   , -0.25 +0.j   ,\n",
      "            0.   +0.25j ,  0.   +0.25j ,  0.   +0.25j ,  0.   +0.25j ,\n",
      "           -0.   -0.25j , -0.   -0.25j , -0.   -0.25j , -0.   -0.25j ],\n",
      "          [ 0.25 +0.j   , -0.25 +0.j   ,  0.   +0.25j , -0.   -0.25j ,\n",
      "           -0.177-0.177j,  0.177+0.177j,  0.177-0.177j, -0.177+0.177j,\n",
      "           -0.096+0.231j,  0.096-0.231j, -0.231-0.096j,  0.231+0.096j,\n",
      "            0.231-0.096j, -0.231+0.096j,  0.096+0.231j, -0.096-0.231j],\n",
      "          [ 0.25 +0.j   ,  0.25 -0.j   , -0.25 +0.j   , -0.25 +0.j   ,\n",
      "           -0.   -0.25j , -0.   -0.25j ,  0.   +0.25j ,  0.   +0.25j ,\n",
      "           -0.177+0.177j, -0.177+0.177j,  0.177-0.177j,  0.177-0.177j,\n",
      "            0.177+0.177j,  0.177+0.177j, -0.177-0.177j, -0.177-0.177j],\n",
      "          [ 0.25 +0.j   , -0.25 +0.j   , -0.   -0.25j ,  0.   +0.25j ,\n",
      "            0.177-0.177j, -0.177+0.177j, -0.177-0.177j,  0.177+0.177j,\n",
      "           -0.231+0.096j,  0.231-0.096j,  0.096+0.231j, -0.096-0.231j,\n",
      "           -0.096+0.231j,  0.096-0.231j,  0.231+0.096j, -0.231-0.096j],\n",
      "          [ 0.25 +0.j   ,  0.25 -0.j   ,  0.25 -0.j   ,  0.25 -0.j   ,\n",
      "            0.25 -0.j   ,  0.25 -0.j   ,  0.25 -0.j   ,  0.25 -0.j   ,\n",
      "           -0.25 +0.j   , -0.25 +0.j   , -0.25 +0.j   , -0.25 +0.j   ,\n",
      "           -0.25 +0.j   , -0.25 +0.j   , -0.25 +0.j   , -0.25 +0.j   ],\n",
      "          [ 0.25 +0.j   , -0.25 +0.j   ,  0.   +0.25j , -0.   -0.25j ,\n",
      "            0.177+0.177j, -0.177-0.177j, -0.177+0.177j,  0.177-0.177j,\n",
      "           -0.231-0.096j,  0.231+0.096j,  0.096-0.231j, -0.096+0.231j,\n",
      "           -0.096-0.231j,  0.096+0.231j,  0.231-0.096j, -0.231+0.096j],\n",
      "          [ 0.25 +0.j   ,  0.25 -0.j   , -0.25 +0.j   , -0.25 +0.j   ,\n",
      "            0.   +0.25j ,  0.   +0.25j , -0.   -0.25j , -0.   -0.25j ,\n",
      "           -0.177-0.177j, -0.177-0.177j,  0.177+0.177j,  0.177+0.177j,\n",
      "            0.177-0.177j,  0.177-0.177j, -0.177+0.177j, -0.177+0.177j],\n",
      "          [ 0.25 +0.j   , -0.25 +0.j   , -0.   -0.25j ,  0.   +0.25j ,\n",
      "           -0.177+0.177j,  0.177-0.177j,  0.177+0.177j, -0.177-0.177j,\n",
      "           -0.096-0.231j,  0.096+0.231j, -0.231+0.096j,  0.231-0.096j,\n",
      "            0.231+0.096j, -0.231-0.096j,  0.096-0.231j, -0.096+0.231j],\n",
      "          [ 0.25 +0.j   ,  0.25 -0.j   ,  0.25 -0.j   ,  0.25 -0.j   ,\n",
      "           -0.25 +0.j   , -0.25 +0.j   , -0.25 +0.j   , -0.25 +0.j   ,\n",
      "           -0.   -0.25j , -0.   -0.25j , -0.   -0.25j , -0.   -0.25j ,\n",
      "            0.   +0.25j ,  0.   +0.25j ,  0.   +0.25j ,  0.   +0.25j ],\n",
      "          [ 0.25 +0.j   , -0.25 +0.j   ,  0.   +0.25j , -0.   -0.25j ,\n",
      "           -0.177-0.177j,  0.177+0.177j,  0.177-0.177j, -0.177+0.177j,\n",
      "            0.096-0.231j, -0.096+0.231j,  0.231+0.096j, -0.231-0.096j,\n",
      "           -0.231+0.096j,  0.231-0.096j, -0.096-0.231j,  0.096+0.231j],\n",
      "          [ 0.25 +0.j   ,  0.25 -0.j   , -0.25 +0.j   , -0.25 +0.j   ,\n",
      "           -0.   -0.25j , -0.   -0.25j ,  0.   +0.25j ,  0.   +0.25j ,\n",
      "            0.177-0.177j,  0.177-0.177j, -0.177+0.177j, -0.177+0.177j,\n",
      "           -0.177-0.177j, -0.177-0.177j,  0.177+0.177j,  0.177+0.177j],\n",
      "          [ 0.25 +0.j   , -0.25 +0.j   , -0.   -0.25j ,  0.   +0.25j ,\n",
      "            0.177-0.177j, -0.177+0.177j, -0.177-0.177j,  0.177+0.177j,\n",
      "            0.231-0.096j, -0.231+0.096j, -0.096-0.231j,  0.096+0.231j,\n",
      "            0.096-0.231j, -0.096+0.231j, -0.231-0.096j,  0.231+0.096j]],\n",
      "         input_dims=(2, 2, 2, 2), output_dims=(2, 2, 2, 2))\n"
     ]
    }
   ],
   "source": [
    "from qiskit import Aer\n",
    "\n",
    "backend = Aer.get_backend('unitary_simulator')\n",
    "cvbe0_time_1 = time.time()\n",
    "job = backend.run(circ0)\n",
    "result = job.result()\n",
    "cvbe0_time_2 = time.time()\n",
    "print(\"C1 construction: %.6f\"%(cvbe0_time_2-cvbe0_time_1))\n",
    "print(result.get_unitary(circ0, decimals=3))"
   ]
  },
  {
   "cell_type": "code",
   "execution_count": 6,
   "metadata": {},
   "outputs": [],
   "source": [
    "data = result.get_unitary(circ0, decimals=3).data"
   ]
  },
  {
   "cell_type": "code",
   "execution_count": 8,
   "metadata": {},
   "outputs": [
    {
     "name": "stdout",
     "output_type": "stream",
     "text": [
      "[(0.25+0j), (-0.25+0j), 0.25j, (-0-0.25j), (0.177+0.177j), (-0.177-0.177j), (-0.177+0.177j), (0.177-0.177j), (0.231+0.096j), (-0.231-0.096j), (-0.096+0.231j), (0.096-0.231j), (0.096+0.231j), (-0.096-0.231j), (-0.231+0.096j), (0.231-0.096j)]\n",
      "16\n"
     ]
    }
   ],
   "source": [
    "lst = []\n",
    "for i in range(len(data)):\n",
    "    for j in range(len(data[0])):\n",
    "        if data[i][j] not in lst:\n",
    "            lst.append(data[i][j])\n",
    "print(lst)\n",
    "print(len(lst))"
   ]
  },
  {
   "cell_type": "code",
   "execution_count": 3,
   "metadata": {},
   "outputs": [],
   "source": [
    "from jellyfish import soundex"
   ]
  },
  {
   "cell_type": "code",
   "execution_count": 5,
   "metadata": {},
   "outputs": [
    {
     "data": {
      "text/plain": [
       "'G240'"
      ]
     },
     "execution_count": 5,
     "metadata": {},
     "output_type": "execute_result"
    }
   ],
   "source": [
    "soundex('gooogle')"
   ]
  },
  {
   "cell_type": "code",
   "execution_count": 2,
   "metadata": {},
   "outputs": [],
   "source": [
    "from dd import _bdd"
   ]
  },
  {
   "cell_type": "code",
   "execution_count": 14,
   "metadata": {},
   "outputs": [
    {
     "data": {
      "text/plain": [
       "True"
      ]
     },
     "execution_count": 14,
     "metadata": {},
     "output_type": "execute_result"
    }
   ],
   "source": [
    "bdd = _bdd.BDD()\n",
    "bdd.configure(reordering=True)\n",
    "bdd.declare('a', 'b', 'c', 'd', 'e', 'f')\n",
    "u = bdd.add_expr(r'a /\\ b \\/ c /\\ d')\n",
    "v = bdd.add_expr(r'a /\\ d \\/ b /\\ c')\n",
    "v_ = bdd.let({'c':'e', 'd':'f', 'a':'c', 'b':'d'}, v)\n",
    "# v_ = bdd.let({'a':'c', 'b':'d'}, v_)\n",
    "t = bdd.add_expr(r'c /\\ f \\/ d /\\ e')\n",
    "t == v_"
   ]
  },
  {
   "cell_type": "code",
   "execution_count": 9,
   "metadata": {},
   "outputs": [
    {
     "data": {
      "text/plain": [
       "True"
      ]
     },
     "execution_count": 9,
     "metadata": {},
     "output_type": "execute_result"
    }
   ],
   "source": [
    "u_ = bdd.let({'b':'c'}, u)\n",
    "w = u_ & v\n",
    "w == bdd.false"
   ]
  },
  {
   "cell_type": "code",
   "execution_count": 11,
   "metadata": {},
   "outputs": [
    {
     "data": {
      "text/plain": [
       "'ite(a, c, FALSE)'"
      ]
     },
     "execution_count": 11,
     "metadata": {},
     "output_type": "execute_result"
    }
   ],
   "source": [
    "bdd.to_expr(u_)"
   ]
  },
  {
   "cell_type": "code",
   "execution_count": null,
   "metadata": {},
   "outputs": [],
   "source": []
  }
 ],
 "metadata": {
  "kernelspec": {
   "display_name": "Python 3",
   "language": "python",
   "name": "python3"
  },
  "language_info": {
   "codemirror_mode": {
    "name": "ipython",
    "version": 3
   },
   "file_extension": ".py",
   "mimetype": "text/x-python",
   "name": "python",
   "nbconvert_exporter": "python",
   "pygments_lexer": "ipython3",
   "version": "3.8.3"
  }
 },
 "nbformat": 4,
 "nbformat_minor": 4
}
