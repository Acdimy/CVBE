{
 "cells": [
  {
   "cell_type": "code",
   "execution_count": 1,
   "metadata": {},
   "outputs": [],
   "source": [
    "import numpy as np\n",
    "from qiskit import QuantumCircuit\n",
    "from qiskit.quantum_info.operators import Operator\n",
    "from z3 import *\n",
    "import time"
   ]
  },
  {
   "cell_type": "code",
   "execution_count": 2,
   "metadata": {},
   "outputs": [],
   "source": [
    "circ = QuantumCircuit().from_qasm_file('test.qasm')"
   ]
  },
  {
   "cell_type": "code",
   "execution_count": 3,
   "metadata": {},
   "outputs": [
    {
     "data": {
      "image/png": "[encoded data removed]",
      "text/plain": [
       "<Figure size 193.726x84.28 with 1 Axes>"
      ]
     },
     "execution_count": 3,
     "metadata": {},
     "output_type": "execute_result"
    }
   ],
   "source": [
    "circ.draw('mpl')"
   ]
  },
  {
   "cell_type": "code",
   "execution_count": 4,
   "metadata": {},
   "outputs": [],
   "source": [
    "def is_diagonal(U):\n",
    "    i, j = np.nonzero(U)\n",
    "    return np.all(i == j)\n",
    "\n",
    "def add_hyper_index(var_list,hyper_index):\n",
    "    for var in var_list:\n",
    "        if not var in hyper_index:\n",
    "            hyper_index[var]=0\n",
    "            \n",
    "def reshape(U):\n",
    "    if U.shape==(2,2):\n",
    "        return U\n",
    "    \n",
    "    if U.shape[0]==U.shape[1]:\n",
    "        split_U=np.split(U,2,1)\n",
    "    else:\n",
    "        split_U=np.split(U,2,0)\n",
    "    split_U[0]=reshape(split_U[0])\n",
    "    split_U[1]=reshape(split_U[1]) \n",
    "    return np.array([split_U])[0]            \n",
    "            \n",
    "def get_real_qubit_num(cir):\n",
    "    \"\"\"Calculate the real number of qubits of a circuit\"\"\"\n",
    "    gates=cir.data\n",
    "    q=0\n",
    "    for k in range(len(gates)):\n",
    "        q=max(q,max([qbit.index for qbit in gates[k][1]]))\n",
    "    return q+1"
   ]
  },
  {
   "cell_type": "code",
   "execution_count": 5,
   "metadata": {},
   "outputs": [],
   "source": [
    "class Term:\n",
    "    def __init__(self, attr=0.+0.j, ref=None):\n",
    "        self.attr = attr\n",
    "        self.ref = ref\n",
    "    def tensor(self, t1=None):\n",
    "        attr1 = self.attr * t1.attr\n",
    "        ref1 = And(self.ref, t1.ref)\n",
    "        return Term(attr1, ref1)\n",
    "    def exist(self, ex_list=[]):\n",
    "        pass\n",
    "    def sequential(self, t1=None, ex_list=[]): # ex_list: vars\n",
    "        attr1 = self.attr * t1.attr\n",
    "        num_ex = len(ex_list)\n",
    "        ref_0 = And(self.ref, t1.ref)\n",
    "        res_terms = []\n",
    "        r = 2 ** num_ex\n",
    "        for i in range(r):\n",
    "            ex_var_vals = bin(i)[2:]\n",
    "            if len(ex_var_vals) < num_ex:\n",
    "                ex_var_vals = '0' * (num_ex - len(ex_var_vals)) + ex_var_vals\n",
    "            ref_i = ref_0\n",
    "            for j in range(num_ex):\n",
    "                if ex_var_vals[j] == '1':\n",
    "                    ref_i = And(ref_i, ex_list[j]) # !!!\n",
    "                else:\n",
    "                    ref_i = And(ref_i, Not(ex_list[j]))\n",
    "            res_terms.append(Term(attr1, ref_i))\n",
    "        return res_terms\n",
    "    def equalattr(self, t1=None):\n",
    "        return self.attr == t1.attr\n",
    "#     def equalref(self, t1=None):\n",
    "#         # check ref equivalence\n",
    "#         return False\n",
    "#     def contra(self, t1=None):\n",
    "#         # check conrtradictoriness\n",
    "#         return False\n",
    "#     def shrink(self):\n",
    "#         # simplify ref\n",
    "#         pass\n",
    "#     def reduce(self, t1=None):\n",
    "#         if self.equalref(t1):\n",
    "#             return Term(self.attr+t1.attr, self.ref)\n",
    "#         elif self.contra(t1) and self.equalattr(t1):\n",
    "#             pass\n",
    "#         pass"
   ]
  },
  {
   "cell_type": "code",
   "execution_count": 6,
   "metadata": {},
   "outputs": [],
   "source": [
    "def genRef(r, c, input_qubits, var_list, tt_input_num, q, curr_output):\n",
    "#     print(tt_input_num)\n",
    "#     if curr_output == 0:\n",
    "#         bias_in = 0\n",
    "#         bias_out = 1\n",
    "#     elif curr_output == 1:\n",
    "#         bias_in = 1\n",
    "#         bias_out = 2\n",
    "#     else:\n",
    "#         bias_in = 2\n",
    "#         bias_out = 1\n",
    "    bias_in = curr_output\n",
    "    bias_out = 2 if curr_output == 1 else 1\n",
    "    input_vars = bin(r)[2:]\n",
    "    if len(input_vars) < input_qubits:\n",
    "        input_vars = '0'*(input_qubits-len(input_vars)) + input_vars\n",
    "    output_vars = bin(c)[2:]\n",
    "    if len(output_vars) < input_qubits:\n",
    "        output_vars = '0'*(input_qubits-len(output_vars)) + output_vars\n",
    "    reslist = []\n",
    "    for i,e in enumerate(input_vars):\n",
    "        if e == '1':\n",
    "            reslist.append(var_list[q[i]+bias_in*tt_input_num])\n",
    "        else:\n",
    "            reslist.append(Not(var_list[q[i]+bias_in*tt_input_num]))\n",
    "    for i,e in enumerate(output_vars):\n",
    "        if e == '1':\n",
    "            reslist.append(var_list[q[i]+bias_out*tt_input_num])\n",
    "        else:\n",
    "            reslist.append(Not(var_list[q[i]+bias_out*tt_input_num]))\n",
    "    return And(tuple(reslist))"
   ]
  },
  {
   "cell_type": "code",
   "execution_count": 7,
   "metadata": {},
   "outputs": [],
   "source": [
    "class CVBE:\n",
    "    def __init__(self, termlist=[], termdict={}): # Assume that terms are already regularized\n",
    "        if termlist != []:\n",
    "            self.termdict = self.gen_termdict(termlist)\n",
    "        else:\n",
    "            self.termdict = termdict\n",
    "    def gen_termdict(self, termlist):\n",
    "        termdict = {}\n",
    "        for term in termlist:\n",
    "            if term.attr not in termdict:\n",
    "                termdict[term.attr] = [term]\n",
    "            else:\n",
    "                termdict[term.attr].append(term)\n",
    "        for attr in termdict:\n",
    "            if len(termdict[attr]) > 1:\n",
    "                term_rd = Term(attr, Or(tuple([t.ref for t in termdict[attr]])))\n",
    "                termdict[attr] = term_rd\n",
    "            else:\n",
    "                termdict[attr] = termdict[attr][0]\n",
    "        return termdict\n",
    "    def regularize(self):\n",
    "        pass\n",
    "    def equal(self, c1):\n",
    "        pass\n",
    "    def tensor(self, c1):\n",
    "        termlist1 = []\n",
    "        for term1 in self.termdict.values():\n",
    "            for term2 in c1.termdict.values():\n",
    "                termlist1.append(term1.tensor(term2))\n",
    "        return CVBE(termlist1)\n",
    "    def sequential(self, c1, ex_list=[]):\n",
    "        termlist1 = []\n",
    "        for term1 in self.termdict.values():\n",
    "            for term2 in c1.termdict.values():\n",
    "                termlist1 += (term1.sequential(term2, ex_list))\n",
    "        return CVBE(termlist1)\n",
    "#     @classmathod\n",
    "#     def identity(cls):\n",
    "#         pass"
   ]
  },
  {
   "cell_type": "code",
   "execution_count": 8,
   "metadata": {},
   "outputs": [
    {
     "name": "stderr",
     "output_type": "stream",
     "text": [
      "<ipython-input-4-77c3d43aa436>:27: DeprecationWarning: Back-references to from Bit instances to their containing Registers have been deprecated. Instead, inspect Registers to find their contained Bits.\n",
      "  q=max(q,max([qbit.index for qbit in gates[k][1]]))\n"
     ]
    }
   ],
   "source": [
    "qubits_num = get_real_qubit_num(circ)\n",
    "vars_num = qubits_num\n",
    "var_list = []\n",
    "for i in range(3*vars_num):\n",
    "    var_list.append(Bool(str(i)))\n",
    "curr_output = 0"
   ]
  },
  {
   "cell_type": "code",
   "execution_count": 9,
   "metadata": {},
   "outputs": [],
   "source": [
    "# number of gates\n",
    "gates = circ.data"
   ]
  },
  {
   "cell_type": "code",
   "execution_count": 10,
   "metadata": {},
   "outputs": [
    {
     "name": "stderr",
     "output_type": "stream",
     "text": [
      "<ipython-input-10-82b20bd96981>:5: DeprecationWarning: Back-references to from Bit instances to their containing Registers have been deprecated. Instead, inspect Registers to find their contained Bits.\n",
      "  q = [q.index for q in g[1]] # involved qubits of the gate\n"
     ]
    }
   ],
   "source": [
    "circ_cvbe = None\n",
    "for k in range(len(gates)):\n",
    "    g=gates[k] # information of the kth gate\n",
    "    nam=g[0].name\n",
    "    q = [q.index for q in g[1]] # involved qubits of the gate\n",
    "#     print(g, nam, q)\n",
    "    U = Operator(g[0]).data\n",
    "    termlist = []\n",
    "#     print(U.shape)\n",
    "    for r in range(U.shape[0]):\n",
    "        for c in range(U.shape[1]):\n",
    "            if U[r][c] != 0:\n",
    "                ref = genRef(r,c,len(q), var_list, vars_num, q, curr_output)\n",
    "                termlist.append(Term(U[r][c], ref))\n",
    "    internal_vars = var_list[curr_output*vars_num:(curr_output+1)*vars_num]\n",
    "    curr_output = 2 if curr_output == 1 else 1\n",
    "    cvbe = CVBE(termlist)\n",
    "    if circ_cvbe == None:\n",
    "        circ_cvbe = cvbe\n",
    "    else:\n",
    "        circ_cvbe = circ_cvbe.sequential(cvbe, internal_vars)\n",
    "#         circ_cvbe = circ_cvbe.tensor(cvbe)"
   ]
  },
  {
   "cell_type": "code",
   "execution_count": 28,
   "metadata": {},
   "outputs": [
    {
     "data": {
      "text/html": [
       "(&not;0 &and; 1 &or; 0 &and; &not;1) &and; 1 &and; 2 &and; &not;1 &or;\n",
       "(&not;0 &and; 1 &or; 0 &and; &not;1) &and; 1 &and; 2 &and; 1"
      ],
      "text/plain": [
       "Or(And(And(Or(And(Not(0), 1), And(0, Not(1))), And(1, 2)),\n",
       "       Not(1)),\n",
       "   And(And(Or(And(Not(0), 1), And(0, Not(1))), And(1, 2)),\n",
       "       1))"
      ]
     },
     "execution_count": 28,
     "metadata": {},
     "output_type": "execute_result"
    }
   ],
   "source": [
    "circ_cvbe.termdict[-0.7071067811865475+0j].ref"
   ]
  },
  {
   "cell_type": "code",
   "execution_count": 12,
   "metadata": {},
   "outputs": [
    {
     "data": {
      "text/plain": [
       "array([[0.+0.j, 1.+0.j],\n",
       "       [1.+0.j, 0.+0.j]])"
      ]
     },
     "execution_count": 12,
     "metadata": {},
     "output_type": "execute_result"
    }
   ],
   "source": [
    "Operator(gates[0][0]).data"
   ]
  },
  {
   "cell_type": "code",
   "execution_count": 13,
   "metadata": {},
   "outputs": [
    {
     "name": "stdout",
     "output_type": "stream",
     "text": [
      "Operator([[ 0.707-0.j,  0.707+0.j],\n",
      "          [-0.707+0.j,  0.707+0.j]],\n",
      "         input_dims=(2,), output_dims=(2,))\n"
     ]
    }
   ],
   "source": [
    "from qiskit import *\n",
    "# Run the quantum circuit on a unitary simulator backend\n",
    "backend = Aer.get_backend('unitary_simulator')\n",
    "job = backend.run(circ)\n",
    "result = job.result()\n",
    "\n",
    "# Show the results\n",
    "print(result.get_unitary(circ, decimals=3))"
   ]
  },
  {
   "cell_type": "code",
   "execution_count": 14,
   "metadata": {},
   "outputs": [
    {
     "data": {
      "text/plain": [
       "{(0.7071067811865475+0j): <__main__.Term at 0x23d294b8eb0>,\n",
       " (-0.7071067811865475+0j): <__main__.Term at 0x23d29554d00>}"
      ]
     },
     "execution_count": 14,
     "metadata": {},
     "output_type": "execute_result"
    }
   ],
   "source": [
    "circ_cvbe.termdict"
   ]
  },
  {
   "cell_type": "code",
   "execution_count": 15,
   "metadata": {},
   "outputs": [],
   "source": [
    "from z3 import *"
   ]
  },
  {
   "cell_type": "code",
   "execution_count": 16,
   "metadata": {},
   "outputs": [],
   "source": [
    "a,b,c,d,e = Bools('a b c d e')"
   ]
  },
  {
   "cell_type": "code",
   "execution_count": 17,
   "metadata": {},
   "outputs": [],
   "source": [
    "x = Or(a,b,c,d)"
   ]
  },
  {
   "cell_type": "code",
   "execution_count": 18,
   "metadata": {},
   "outputs": [
    {
     "data": {
      "text/html": [
       "a &or; b &or; c &or; d"
      ],
      "text/plain": [
       "Or(a, b, c, d)"
      ]
     },
     "execution_count": 18,
     "metadata": {},
     "output_type": "execute_result"
    }
   ],
   "source": [
    "x"
   ]
  },
  {
   "cell_type": "code",
   "execution_count": 19,
   "metadata": {},
   "outputs": [
    {
     "data": {
      "text/plain": [
       "[1, 2, 3, 4, 5]"
      ]
     },
     "execution_count": 19,
     "metadata": {},
     "output_type": "execute_result"
    }
   ],
   "source": [
    "a = [1,2,3]\n",
    "b = [4,5]\n",
    "c = a+b\n",
    "c"
   ]
  },
  {
   "cell_type": "code",
   "execution_count": 20,
   "metadata": {},
   "outputs": [],
   "source": [
    "from z3 import *"
   ]
  },
  {
   "cell_type": "code",
   "execution_count": 21,
   "metadata": {},
   "outputs": [],
   "source": [
    "a,b,c = Bools('a b c')"
   ]
  },
  {
   "cell_type": "code",
   "execution_count": 22,
   "metadata": {},
   "outputs": [
    {
     "data": {
      "text/html": [
       "a &and; b &or; b &and; c"
      ],
      "text/plain": [
       "Or(And(a, b), And(b, c))"
      ]
     },
     "execution_count": 22,
     "metadata": {},
     "output_type": "execute_result"
    }
   ],
   "source": [
    "x = Or(And(a, b), And(b, c))\n",
    "x"
   ]
  },
  {
   "cell_type": "code",
   "execution_count": 23,
   "metadata": {},
   "outputs": [
    {
     "data": {
      "text/plain": [
       "2"
      ]
     },
     "execution_count": 23,
     "metadata": {},
     "output_type": "execute_result"
    }
   ],
   "source": [
    "x.num_args()"
   ]
  },
  {
   "cell_type": "code",
   "execution_count": 24,
   "metadata": {},
   "outputs": [],
   "source": [
    "y = And(x, b==True)"
   ]
  },
  {
   "cell_type": "code",
   "execution_count": 25,
   "metadata": {},
   "outputs": [],
   "source": [
    "s = Solver()"
   ]
  },
  {
   "cell_type": "code",
   "execution_count": 26,
   "metadata": {},
   "outputs": [],
   "source": [
    "s.add(y!=True)"
   ]
  },
  {
   "cell_type": "code",
   "execution_count": 27,
   "metadata": {},
   "outputs": [
    {
     "data": {
      "text/html": [
       "<b>sat</b>"
      ],
      "text/plain": [
       "sat"
      ]
     },
     "execution_count": 27,
     "metadata": {},
     "output_type": "execute_result"
    }
   ],
   "source": [
    "s.check()"
   ]
  },
  {
   "cell_type": "code",
   "execution_count": null,
   "metadata": {},
   "outputs": [],
   "source": []
  }
 ],
 "metadata": {
  "kernelspec": {
   "display_name": "Python 3",
   "language": "python",
   "name": "python3"
  },
  "language_info": {
   "codemirror_mode": {
    "name": "ipython",
    "version": 3
   },
   "file_extension": ".py",
   "mimetype": "text/x-python",
   "name": "python",
   "nbconvert_exporter": "python",
   "pygments_lexer": "ipython3",
   "version": "3.8.3"
  }
 },
 "nbformat": 4,
 "nbformat_minor": 4
}
