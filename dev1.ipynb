{
 "cells": [
  {
   "cell_type": "code",
   "execution_count": 1,
   "metadata": {},
   "outputs": [],
   "source": [
    "import numpy as np\n",
    "from qiskit import QuantumCircuit\n",
    "from qiskit.quantum_info.operators import Operator\n",
    "from z3 import *\n",
    "import time"
   ]
  },
  {
   "cell_type": "code",
   "execution_count": 2,
   "metadata": {},
   "outputs": [],
   "source": [
    "circ = QuantumCircuit().from_qasm_file('test.qasm')"
   ]
  },
  {
   "cell_type": "code",
   "execution_count": 3,
   "metadata": {},
   "outputs": [
    {
     "data": {
      "image/png": "[encoded data removed]",
      "text/plain": [
       "<Figure size 206.852x144.48 with 1 Axes>"
      ]
     },
     "execution_count": 3,
     "metadata": {},
     "output_type": "execute_result"
    }
   ],
   "source": [
    "circ.draw('mpl')"
   ]
  },
  {
   "cell_type": "code",
   "execution_count": 4,
   "metadata": {},
   "outputs": [],
   "source": [
    "def is_diagonal(U):\n",
    "    i, j = np.nonzero(U)\n",
    "    return np.all(i == j)\n",
    "\n",
    "def add_hyper_index(var_list,hyper_index):\n",
    "    for var in var_list:\n",
    "        if not var in hyper_index:\n",
    "            hyper_index[var]=0\n",
    "            \n",
    "def reshape(U):\n",
    "    if U.shape==(2,2):\n",
    "        return U\n",
    "    \n",
    "    if U.shape[0]==U.shape[1]:\n",
    "        split_U=np.split(U,2,1)\n",
    "    else:\n",
    "        split_U=np.split(U,2,0)\n",
    "    split_U[0]=reshape(split_U[0])\n",
    "    split_U[1]=reshape(split_U[1]) \n",
    "    return np.array([split_U])[0]            \n",
    "            \n",
    "def get_real_qubit_num(cir):\n",
    "    \"\"\"Calculate the real number of qubits of a circuit\"\"\"\n",
    "    gates=cir.data\n",
    "    q=0\n",
    "    for k in range(len(gates)):\n",
    "        q=max(q,max([qbit.index for qbit in gates[k][1]]))\n",
    "    return q+1"
   ]
  },
  {
   "cell_type": "code",
   "execution_count": 5,
   "metadata": {},
   "outputs": [],
   "source": [
    "class Term:\n",
    "    def __init__(self, attr=0.+0.j, ref=None):\n",
    "        self.attr = attr\n",
    "        self.ref = ref\n",
    "    def tensor(self, t1=None):\n",
    "        attr1 = self.attr * t1.attr\n",
    "        ref1 = And(self.ref, t1.ref)\n",
    "        return Term(attr1, ref1)\n",
    "#     def equalattr(self, t1=None):\n",
    "#         return self.attr == t1.attr\n",
    "#     def equalref(self, t1=None):\n",
    "#         # check ref equivalence\n",
    "#         return False\n",
    "#     def contra(self, t1=None):\n",
    "#         # check conrtradictoriness\n",
    "#         return False\n",
    "#     def shrink(self):\n",
    "#         # simplify ref\n",
    "#         pass\n",
    "#     def reduce(self, t1=None):\n",
    "#         if self.equalref(t1):\n",
    "#             return Term(self.attr+t1.attr, self.ref)\n",
    "#         elif self.contra(t1) and self.equalattr(t1):\n",
    "#             pass\n",
    "#         pass"
   ]
  },
  {
   "cell_type": "code",
   "execution_count": 6,
   "metadata": {},
   "outputs": [],
   "source": [
    "def genRef(r, c, input_qubits, var_list, tt_input_num, bias):\n",
    "#     print(tt_input_num)\n",
    "    input_vars = bin(r)[2:]\n",
    "    if len(input_vars) < input_qubits:\n",
    "        input_vars = '0'*(input_qubits-len(input_vars)) + input_vars\n",
    "    output_vars = bin(c)[2:]\n",
    "    if len(output_vars) < input_qubits:\n",
    "        output_vars = '0'*(input_qubits-len(output_vars)) + output_vars\n",
    "    reslist = []\n",
    "    for i,e in enumerate(input_vars):\n",
    "        if e == '1':\n",
    "#             res = And(res, var_list[i])\n",
    "            reslist.append(var_list[i+bias])\n",
    "        else:\n",
    "#             res = And(res, Not(var_list[i]))\n",
    "            reslist.append(Not(var_list[i+bias]))\n",
    "    for i,e in enumerate(output_vars):\n",
    "        if e == '1':\n",
    "#             res = And(res, var_list[i+vars_num])\n",
    "            reslist.append(var_list[i+bias+tt_input_num])\n",
    "        else:\n",
    "#             res = And(res, Not(var_list[i+vars_num]))\n",
    "            reslist.append(Not(var_list[i+bias+tt_input_num]))\n",
    "    return And(tuple(reslist))"
   ]
  },
  {
   "cell_type": "code",
   "execution_count": 7,
   "metadata": {},
   "outputs": [],
   "source": [
    "class CVBE:\n",
    "    def __init__(self, termlist=[], termdict={}): # Assume that terms are already regularized\n",
    "        if termlist != []:\n",
    "            self.termdict = self.gen_termdict(termlist)\n",
    "        else:\n",
    "            self.termdict = termdict\n",
    "    def gen_termdict(self, termlist):\n",
    "        termdict = {}\n",
    "        for term in termlist:\n",
    "            if term.attr not in termdict:\n",
    "                termdict[term.attr] = [term]\n",
    "            else:\n",
    "                termdict[term.attr].append(term)\n",
    "        for attr in termdict:\n",
    "            if len(termdict[attr]) > 1:\n",
    "                term_rd = Term(attr, Or(tuple([t.ref for t in termdict[attr]])))\n",
    "                termdict[attr] = term_rd\n",
    "            else:\n",
    "                termdict[attr] = termdict[attr][0]\n",
    "        return termdict\n",
    "    def regularize(self):\n",
    "        pass\n",
    "    def equal(self, c1):\n",
    "        pass\n",
    "    def tensor(self, c1):\n",
    "        termlist1 = []\n",
    "        for term1 in self.termdict.values():\n",
    "            for term2 in c1.termdict.values():\n",
    "                termlist1.append(term1.tensor(term2))\n",
    "        return CVBE(termlist1)\n",
    "    def seq(self, c1):\n",
    "        pass"
   ]
  },
  {
   "cell_type": "code",
   "execution_count": 8,
   "metadata": {},
   "outputs": [
    {
     "name": "stderr",
     "output_type": "stream",
     "text": [
      "<ipython-input-4-77c3d43aa436>:27: DeprecationWarning: Back-references to from Bit instances to their containing Registers have been deprecated. Instead, inspect Registers to find their contained Bits.\n",
      "  q=max(q,max([qbit.index for qbit in gates[k][1]]))\n"
     ]
    }
   ],
   "source": [
    "qubits_num = get_real_qubit_num(circ)\n",
    "vars_num = qubits_num\n",
    "var_list = []\n",
    "for i in range(2*vars_num):\n",
    "    var_list.append(Bool(str(i)))"
   ]
  },
  {
   "cell_type": "code",
   "execution_count": 9,
   "metadata": {},
   "outputs": [],
   "source": [
    "# number of gates\n",
    "gates = circ.data"
   ]
  },
  {
   "cell_type": "code",
   "execution_count": 10,
   "metadata": {},
   "outputs": [
    {
     "name": "stderr",
     "output_type": "stream",
     "text": [
      "<ipython-input-10-cb8acb3fcd4e>:5: DeprecationWarning: Back-references to from Bit instances to their containing Registers have been deprecated. Instead, inspect Registers to find their contained Bits.\n",
      "  q = [q.index for q in g[1]] # involved qubits of the gate\n"
     ]
    },
    {
     "name": "stdout",
     "output_type": "stream",
     "text": [
      "(Instruction(name='cx', num_qubits=2, num_clbits=0, params=[]), [Qubit(QuantumRegister(2, 'q'), 0), Qubit(QuantumRegister(2, 'q'), 1)], []) cx [0, 1]\n",
      "(Instruction(name='cx', num_qubits=2, num_clbits=0, params=[]), [Qubit(QuantumRegister(2, 'q'), 1), Qubit(QuantumRegister(2, 'q'), 0)], []) cx [1, 0]\n"
     ]
    },
    {
     "ename": "IndexError",
     "evalue": "list index out of range",
     "output_type": "error",
     "traceback": [
      "\u001b[1;31m---------------------------------------------------------------------------\u001b[0m",
      "\u001b[1;31mIndexError\u001b[0m                                Traceback (most recent call last)",
      "\u001b[1;32m<ipython-input-10-cb8acb3fcd4e>\u001b[0m in \u001b[0;36m<module>\u001b[1;34m\u001b[0m\n\u001b[0;32m     11\u001b[0m         \u001b[1;32mfor\u001b[0m \u001b[0mc\u001b[0m \u001b[1;32min\u001b[0m \u001b[0mrange\u001b[0m\u001b[1;33m(\u001b[0m\u001b[0mU\u001b[0m\u001b[1;33m.\u001b[0m\u001b[0mshape\u001b[0m\u001b[1;33m[\u001b[0m\u001b[1;36m1\u001b[0m\u001b[1;33m]\u001b[0m\u001b[1;33m)\u001b[0m\u001b[1;33m:\u001b[0m\u001b[1;33m\u001b[0m\u001b[1;33m\u001b[0m\u001b[0m\n\u001b[0;32m     12\u001b[0m             \u001b[1;32mif\u001b[0m \u001b[0mU\u001b[0m\u001b[1;33m[\u001b[0m\u001b[0mr\u001b[0m\u001b[1;33m]\u001b[0m\u001b[1;33m[\u001b[0m\u001b[0mc\u001b[0m\u001b[1;33m]\u001b[0m \u001b[1;33m!=\u001b[0m \u001b[1;36m0\u001b[0m\u001b[1;33m:\u001b[0m\u001b[1;33m\u001b[0m\u001b[1;33m\u001b[0m\u001b[0m\n\u001b[1;32m---> 13\u001b[1;33m                 \u001b[0mref\u001b[0m \u001b[1;33m=\u001b[0m \u001b[0mgenRef\u001b[0m\u001b[1;33m(\u001b[0m\u001b[0mr\u001b[0m\u001b[1;33m,\u001b[0m\u001b[0mc\u001b[0m\u001b[1;33m,\u001b[0m\u001b[0mlen\u001b[0m\u001b[1;33m(\u001b[0m\u001b[0mq\u001b[0m\u001b[1;33m)\u001b[0m\u001b[1;33m,\u001b[0m \u001b[0mvar_list\u001b[0m\u001b[1;33m,\u001b[0m \u001b[0mvars_num\u001b[0m\u001b[1;33m,\u001b[0m \u001b[0mq\u001b[0m\u001b[1;33m[\u001b[0m\u001b[1;36m0\u001b[0m\u001b[1;33m]\u001b[0m\u001b[1;33m)\u001b[0m\u001b[1;33m\u001b[0m\u001b[1;33m\u001b[0m\u001b[0m\n\u001b[0m\u001b[0;32m     14\u001b[0m                 \u001b[0mtermlist\u001b[0m\u001b[1;33m.\u001b[0m\u001b[0mappend\u001b[0m\u001b[1;33m(\u001b[0m\u001b[0mTerm\u001b[0m\u001b[1;33m(\u001b[0m\u001b[0mU\u001b[0m\u001b[1;33m[\u001b[0m\u001b[0mr\u001b[0m\u001b[1;33m]\u001b[0m\u001b[1;33m[\u001b[0m\u001b[0mc\u001b[0m\u001b[1;33m]\u001b[0m\u001b[1;33m,\u001b[0m \u001b[0mref\u001b[0m\u001b[1;33m)\u001b[0m\u001b[1;33m)\u001b[0m\u001b[1;33m\u001b[0m\u001b[1;33m\u001b[0m\u001b[0m\n\u001b[0;32m     15\u001b[0m     \u001b[0mcvbe\u001b[0m \u001b[1;33m=\u001b[0m \u001b[0mCVBE\u001b[0m\u001b[1;33m(\u001b[0m\u001b[0mtermlist\u001b[0m\u001b[1;33m)\u001b[0m\u001b[1;33m\u001b[0m\u001b[1;33m\u001b[0m\u001b[0m\n",
      "\u001b[1;32m<ipython-input-6-9fd456df0160>\u001b[0m in \u001b[0;36mgenRef\u001b[1;34m(r, c, input_qubits, var_list, tt_input_num, bias)\u001b[0m\n\u001b[0;32m     21\u001b[0m         \u001b[1;32melse\u001b[0m\u001b[1;33m:\u001b[0m\u001b[1;33m\u001b[0m\u001b[1;33m\u001b[0m\u001b[0m\n\u001b[0;32m     22\u001b[0m \u001b[1;31m#             res = And(res, Not(var_list[i+vars_num]))\u001b[0m\u001b[1;33m\u001b[0m\u001b[1;33m\u001b[0m\u001b[1;33m\u001b[0m\u001b[0m\n\u001b[1;32m---> 23\u001b[1;33m             \u001b[0mreslist\u001b[0m\u001b[1;33m.\u001b[0m\u001b[0mappend\u001b[0m\u001b[1;33m(\u001b[0m\u001b[0mNot\u001b[0m\u001b[1;33m(\u001b[0m\u001b[0mvar_list\u001b[0m\u001b[1;33m[\u001b[0m\u001b[0mi\u001b[0m\u001b[1;33m+\u001b[0m\u001b[0mbias\u001b[0m\u001b[1;33m+\u001b[0m\u001b[0mtt_input_num\u001b[0m\u001b[1;33m]\u001b[0m\u001b[1;33m)\u001b[0m\u001b[1;33m)\u001b[0m\u001b[1;33m\u001b[0m\u001b[1;33m\u001b[0m\u001b[0m\n\u001b[0m\u001b[0;32m     24\u001b[0m     \u001b[1;32mreturn\u001b[0m \u001b[0mAnd\u001b[0m\u001b[1;33m(\u001b[0m\u001b[0mtuple\u001b[0m\u001b[1;33m(\u001b[0m\u001b[0mreslist\u001b[0m\u001b[1;33m)\u001b[0m\u001b[1;33m)\u001b[0m\u001b[1;33m\u001b[0m\u001b[1;33m\u001b[0m\u001b[0m\n",
      "\u001b[1;31mIndexError\u001b[0m: list index out of range"
     ]
    }
   ],
   "source": [
    "circ_cvbe = None\n",
    "for k in range(len(gates)):\n",
    "    g=gates[k] # information of the kth gate\n",
    "    nam=g[0].name\n",
    "    q = [q.index for q in g[1]] # involved qubits of the gate\n",
    "    print(g, nam, q)\n",
    "    U = Operator(g[0]).data\n",
    "    termlist = []\n",
    "#     print(U.shape)\n",
    "    for r in range(U.shape[0]):\n",
    "        for c in range(U.shape[1]):\n",
    "            if U[r][c] != 0:\n",
    "                ref = genRef(r,c,len(q), var_list, vars_num, q[0])\n",
    "                termlist.append(Term(U[r][c], ref))\n",
    "    cvbe = CVBE(termlist)\n",
    "#     print(cvbe.termdict[0.7071067811865475+0j].ref)\n",
    "#     print(cvbe.termdict[-0.7071067811865475+0j].ref)\n",
    "    if circ_cvbe == None:\n",
    "        circ_cvbe = cvbe\n",
    "    else:\n",
    "        circ_cvbe = circ_cvbe.tensor(cvbe)"
   ]
  },
  {
   "cell_type": "code",
   "execution_count": 11,
   "metadata": {},
   "outputs": [
    {
     "ename": "KeyError",
     "evalue": "(0.4999999999999999+0j)",
     "output_type": "error",
     "traceback": [
      "\u001b[1;31m---------------------------------------------------------------------------\u001b[0m",
      "\u001b[1;31mKeyError\u001b[0m                                  Traceback (most recent call last)",
      "\u001b[1;32m<ipython-input-11-b86e964d4030>\u001b[0m in \u001b[0;36m<module>\u001b[1;34m\u001b[0m\n\u001b[1;32m----> 1\u001b[1;33m \u001b[0mcirc_cvbe\u001b[0m\u001b[1;33m.\u001b[0m\u001b[0mtermdict\u001b[0m\u001b[1;33m[\u001b[0m\u001b[1;36m0.4999999999999999\u001b[0m\u001b[1;33m+\u001b[0m\u001b[1;36m0j\u001b[0m\u001b[1;33m]\u001b[0m\u001b[1;33m.\u001b[0m\u001b[0mref\u001b[0m\u001b[1;33m\u001b[0m\u001b[1;33m\u001b[0m\u001b[0m\n\u001b[0m",
      "\u001b[1;31mKeyError\u001b[0m: (0.4999999999999999+0j)"
     ]
    }
   ],
   "source": [
    "circ_cvbe.termdict[0.4999999999999999+0j].ref"
   ]
  },
  {
   "cell_type": "code",
   "execution_count": null,
   "metadata": {},
   "outputs": [],
   "source": [
    "circ_cvbe.termdict[-0.4999999999999999+0j].ref"
   ]
  },
  {
   "cell_type": "code",
   "execution_count": null,
   "metadata": {},
   "outputs": [],
   "source": [
    "Operator(gates[0][0]).data"
   ]
  },
  {
   "cell_type": "code",
   "execution_count": null,
   "metadata": {},
   "outputs": [],
   "source": [
    "from qiskit import *\n",
    "# Run the quantum circuit on a unitary simulator backend\n",
    "backend = Aer.get_backend('unitary_simulator')\n",
    "job = backend.run(circ)\n",
    "result = job.result()\n",
    "\n",
    "# Show the results\n",
    "print(result.get_unitary(circ, decimals=3))"
   ]
  },
  {
   "cell_type": "code",
   "execution_count": null,
   "metadata": {},
   "outputs": [],
   "source": [
    "circ_cvbe.termdict"
   ]
  },
  {
   "cell_type": "code",
   "execution_count": null,
   "metadata": {},
   "outputs": [],
   "source": []
  }
 ],
 "metadata": {
  "kernelspec": {
   "display_name": "Python 3",
   "language": "python",
   "name": "python3"
  },
  "language_info": {
   "codemirror_mode": {
    "name": "ipython",
    "version": 3
   },
   "file_extension": ".py",
   "mimetype": "text/x-python",
   "name": "python",
   "nbconvert_exporter": "python",
   "pygments_lexer": "ipython3",
   "version": "3.8.3"
  }
 },
 "nbformat": 4,
 "nbformat_minor": 4
}
