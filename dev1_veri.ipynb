{
 "cells": [
  {
   "cell_type": "code",
   "execution_count": 1,
   "metadata": {},
   "outputs": [],
   "source": [
    "import numpy as np\n",
    "from qiskit import QuantumCircuit\n",
    "from qiskit.quantum_info.operators import Operator\n",
    "from z3 import *\n",
    "import time"
   ]
  },
  {
   "cell_type": "markdown",
   "metadata": {},
   "source": [
    "### load from file"
   ]
  },
  {
   "cell_type": "code",
   "execution_count": 2,
   "metadata": {},
   "outputs": [
    {
     "data": {
      "image/png": "[encoded data removed]",
      "text/plain": [
       "<Figure size 193.726x84.28 with 1 Axes>"
      ]
     },
     "execution_count": 2,
     "metadata": {},
     "output_type": "execute_result"
    }
   ],
   "source": [
    "circ0 = QuantumCircuit().from_qasm_file('test.qasm')\n",
    "circ0.draw('mpl')"
   ]
  },
  {
   "cell_type": "code",
   "execution_count": 3,
   "metadata": {},
   "outputs": [
    {
     "data": {
      "image/png": "[encoded data removed]",
      "text/plain": [
       "<Figure size 133.526x84.28 with 1 Axes>"
      ]
     },
     "execution_count": 3,
     "metadata": {},
     "output_type": "execute_result"
    }
   ],
   "source": [
    "circ1 = QuantumCircuit().from_qasm_file('test1.qasm')\n",
    "circ1.draw('mpl')"
   ]
  },
  {
   "cell_type": "markdown",
   "metadata": {},
   "source": [
    "### Some basic functions (maybe useless)"
   ]
  },
  {
   "cell_type": "code",
   "execution_count": 4,
   "metadata": {},
   "outputs": [],
   "source": [
    "def is_diagonal(U):\n",
    "    i, j = np.nonzero(U)\n",
    "    return np.all(i == j)\n",
    "\n",
    "def add_hyper_index(var_list,hyper_index):\n",
    "    for var in var_list:\n",
    "        if not var in hyper_index:\n",
    "            hyper_index[var]=0\n",
    "            \n",
    "def reshape(U):\n",
    "    if U.shape==(2,2):\n",
    "        return U\n",
    "    \n",
    "    if U.shape[0]==U.shape[1]:\n",
    "        split_U=np.split(U,2,1)\n",
    "    else:\n",
    "        split_U=np.split(U,2,0)\n",
    "    split_U[0]=reshape(split_U[0])\n",
    "    split_U[1]=reshape(split_U[1]) \n",
    "    return np.array([split_U])[0]            \n",
    "            \n",
    "def get_real_qubit_num(cir):\n",
    "    \"\"\"Calculate the real number of qubits of a circuit\"\"\"\n",
    "    gates=cir.data\n",
    "    q=0\n",
    "    for k in range(len(gates)):\n",
    "        q=max(q,max([qbit.index for qbit in gates[k][1]]))\n",
    "    return q+1"
   ]
  },
  {
   "cell_type": "markdown",
   "metadata": {},
   "source": [
    "### Class of Term"
   ]
  },
  {
   "cell_type": "code",
   "execution_count": 5,
   "metadata": {},
   "outputs": [],
   "source": [
    "class Term:\n",
    "    def __init__(self, attr=0.+0.j, ref=None):\n",
    "        self.attr = attr\n",
    "        self.ref = ref\n",
    "    def tensor(self, t1=None):\n",
    "        attr1 = self.attr * t1.attr\n",
    "        ref1 = And(self.ref, t1.ref)\n",
    "        return Term(attr1, ref1)\n",
    "    def exist(self, ex_list=[]):\n",
    "        pass\n",
    "    def sequential(self, t1=None, ex_list=[]): # ex_list: vars\n",
    "        attr1 = self.attr * t1.attr\n",
    "        num_ex = len(ex_list)\n",
    "        ref_0 = And(self.ref, t1.ref)\n",
    "        res_terms = []\n",
    "        r = 2 ** num_ex\n",
    "        for i in range(r):\n",
    "            ex_var_vals = bin(i)[2:]\n",
    "            if len(ex_var_vals) < num_ex:\n",
    "                ex_var_vals = '0' * (num_ex - len(ex_var_vals)) + ex_var_vals\n",
    "            ref_i = ref_0\n",
    "            for j in range(num_ex): # value each existential variables\n",
    "                if ex_var_vals[j] == '1':\n",
    "                    ref_i = And(ref_i, ex_list[j]) # !!!\n",
    "                else:\n",
    "                    ref_i = And(ref_i, Not(ex_list[j]))\n",
    "            res_terms.append(Term(attr1, ref_i))\n",
    "        return res_terms\n",
    "    def equalattr(self, t1=None):\n",
    "        return self.attr == t1.attr\n",
    "    def is_neg(self):\n",
    "        solver = Solver()\n",
    "        solver.add(self.ref)\n",
    "        if solver.check() == z3.unsat:\n",
    "            return True\n",
    "        return False\n",
    "#     def equalref(self, t1=None):\n",
    "#         # check ref equivalence\n",
    "#         return False\n",
    "#     def contra(self, t1=None):\n",
    "#         # check conrtradictoriness\n",
    "#         return False\n",
    "#     def shrink(self):\n",
    "#         # simplify ref\n",
    "#         pass\n",
    "#     def reduce(self, t1=None):\n",
    "#         if self.equalref(t1):\n",
    "#             return Term(self.attr+t1.attr, self.ref)\n",
    "#         elif self.contra(t1) and self.equalattr(t1):\n",
    "#             pass\n",
    "#         pass"
   ]
  },
  {
   "cell_type": "code",
   "execution_count": 6,
   "metadata": {},
   "outputs": [],
   "source": [
    "def genRef(r, c, input_qubits, var_list, tt_input_num, q, curr_output):\n",
    "    bias_in = curr_output\n",
    "    bias_out = 2 if curr_output == 1 else 1\n",
    "    input_vars = bin(r)[2:]\n",
    "    if len(input_vars) < input_qubits:\n",
    "        input_vars = '0'*(input_qubits-len(input_vars)) + input_vars\n",
    "    output_vars = bin(c)[2:]\n",
    "    if len(output_vars) < input_qubits:\n",
    "        output_vars = '0'*(input_qubits-len(output_vars)) + output_vars\n",
    "    reslist = []\n",
    "    for i,e in enumerate(input_vars):\n",
    "        if e == '1':\n",
    "            reslist.append(var_list[q[i]+bias_in*tt_input_num])\n",
    "        else:\n",
    "            reslist.append(Not(var_list[q[i]+bias_in*tt_input_num]))\n",
    "    for i,e in enumerate(output_vars):\n",
    "        if e == '1':\n",
    "            reslist.append(var_list[q[i]+bias_out*tt_input_num])\n",
    "        else:\n",
    "            reslist.append(Not(var_list[q[i]+bias_out*tt_input_num]))\n",
    "    return And(tuple(reslist))"
   ]
  },
  {
   "cell_type": "code",
   "execution_count": 7,
   "metadata": {},
   "outputs": [],
   "source": [
    "from functools import cmp_to_key\n",
    "\n",
    "class CVBE:\n",
    "    def __init__(self, termlist=[]): # Assume that terms are already regularized\n",
    "        if termlist != []:\n",
    "            self.termdict = self.gen_termdict(termlist)\n",
    "        else:\n",
    "            self.termdict = {}\n",
    "    def gen_termdict(self, termlist):\n",
    "        termdict = {}\n",
    "        for term in termlist:\n",
    "            if term.attr not in termdict:\n",
    "                termdict[term.attr] = [term]\n",
    "            else:\n",
    "                termdict[term.attr].append(term)\n",
    "        for attr in termdict:\n",
    "            if len(termdict[attr]) > 1:\n",
    "                term_rd = Term(attr, Or(tuple([t.ref for t in termdict[attr]])))\n",
    "                termdict[attr] = term_rd\n",
    "            else:\n",
    "                termdict[attr] = termdict[attr][0]\n",
    "        return termdict\n",
    "    def reduce(self):\n",
    "        del_list = []\n",
    "        for key in self.termdict:\n",
    "            solver = Solver()\n",
    "            if self.termdict[key].is_neg():\n",
    "                del_list.append(key)\n",
    "#                 print(self.termdict[key].ref)\n",
    "        for key in del_list:\n",
    "            del self.termdict[key]\n",
    "    def regularize(self, termlist=[]):\n",
    "        if termlist == []:\n",
    "            termlist = self.termdict.values() # len > 0\n",
    "        ref_list = [term.ref for term in termlist]\n",
    "        attr_list = [term.attr for term in termlist]\n",
    "        term_num = len(termlist)\n",
    "        ref_new_list, attr_new_list = [ref_list[0]], [attr_list[0]]\n",
    "        for i in range(1, term_num): # curr_ref: ref_list[i]\n",
    "            ref_new = ref_list[i]\n",
    "            curr_term_num = len(ref_new_list)\n",
    "            for j in range(curr_term_num):\n",
    "                ref_new = And(ref_new, Not(ref_new_list[j]))\n",
    "                if attr_list[i] + attr_new_list[j] != 0:\n",
    "                    ref_update0 = And(ref_list[i], ref_new_list[j])\n",
    "                    ref_new_list.append(ref_update0)\n",
    "                    attr_new_list.append(attr_list[i]+attr_new_list[j])\n",
    "#                     print('Here come in: ', attr_list[i], attr_new_list[j])\n",
    "                ref_update1 = And(Not(ref_list[i]), ref_new_list[j])\n",
    "                ref_new_list.append(ref_update1)\n",
    "                attr_new_list.append(attr_new_list[j])\n",
    "            ref_new_list.append(ref_new)\n",
    "            attr_new_list.append(attr_list[i])\n",
    "            ref_new_list = ref_new_list[curr_term_num:]\n",
    "            attr_new_list = attr_new_list[curr_term_num:]\n",
    "            #\n",
    "            term_temp_list = [Term(attr_new_list[i], ref_new_list[i]) for i in range(len(ref_new_list))]\n",
    "            termdict_new = self.gen_termdict(term_temp_list)\n",
    "            ## Order!\n",
    "            term_temp_list = termdict_new.values()\n",
    "            ref_new_list = [term.ref for term in term_temp_list]\n",
    "            attr_new_list = [term.attr for term in term_temp_list]\n",
    "        term_new_list = [Term(attr_new_list[i], ref_new_list[i]) for i in range(len(ref_new_list))]\n",
    "        ### TERM MERGE!!!\n",
    "        termdict_new = self.gen_termdict(term_new_list)\n",
    "#         termdict_new = dict(zip(attr_new_list, term_new_list))\n",
    "        self.termdict = termdict_new\n",
    "    def equals(self, c1, threshold=0.001):\n",
    "        if len(self.termdict) != len(c1.termdict):\n",
    "            return False\n",
    "        length = len(self.termdict)\n",
    "        termlist0 = sorted(self.termdict.items(), key=cmp_to_key(lambda x,y: x[0].real > y[0].real or x[0].imag > y[0].imag))\n",
    "        termlist1 = sorted(c1.termdict.items(), key=cmp_to_key(lambda x,y: x[0].real > y[0].real or x[0].imag > y[0].imag))\n",
    "        print([term[0] for term in termlist0])\n",
    "        print([term[0] for term in termlist1])\n",
    "        res = True\n",
    "        for i in range(len(termlist0)):\n",
    "            attr_diff = termlist0[i][0]-termlist1[i][0]\n",
    "            if abs(attr_diff.real) + abs(attr_diff.imag) >= threshold:\n",
    "#                 print('attr_diff: ', attr_diff)\n",
    "                res = False\n",
    "            solver = Solver()\n",
    "            solver.add(termlist0[i][1]!=termlist1[i][1])\n",
    "            if solver.check() == z3.sat:\n",
    "#                 print('sat')\n",
    "                res = False\n",
    "            if res == False:\n",
    "                return res\n",
    "        return res\n",
    "    def tensor(self, c1):\n",
    "        termlist1 = []\n",
    "        for term1 in self.termdict.values():\n",
    "            for term2 in c1.termdict.values():\n",
    "                termlist1.append(term1.tensor(term2))\n",
    "        return CVBE(termlist1)\n",
    "    def sequential(self, c1, ex_list=[]):\n",
    "        termlist1 = []\n",
    "        print(len(self.termdict), len(c1.termdict))\n",
    "        for term1 in self.termdict.values():\n",
    "            for term2 in c1.termdict.values():\n",
    "                termlist1 += (term1.sequential(term2, ex_list))\n",
    "        print(len(termlist1))\n",
    "        print([term.ref for term in termlist1])\n",
    "        c0 = CVBE();\n",
    "        c0.regularize(termlist1)\n",
    "#         print(c0.termdict.keys())\n",
    "        c0.reduce()\n",
    "#         print(c0.termdict.keys())\n",
    "        return c0\n",
    "#     @classmathod\n",
    "#     def identity(cls):\n",
    "#         pass"
   ]
  },
  {
   "cell_type": "code",
   "execution_count": 8,
   "metadata": {},
   "outputs": [],
   "source": [
    "def gen_cvbe(circ):\n",
    "    qubits_num = get_real_qubit_num(circ)\n",
    "    vars_num = qubits_num\n",
    "    var_list = []\n",
    "    for i in range(4*vars_num):\n",
    "        var_list.append(Bool(str(i)))\n",
    "    curr_output = 0\n",
    "    # number of gates\n",
    "    gates = circ.data\n",
    "    circ_cvbe = None\n",
    "    for k in range(len(gates)):\n",
    "        g=gates[k] # information of the kth gate\n",
    "        nam=g[0].name\n",
    "        q = [q.index for q in g[1]] # involved qubits of the gate\n",
    "    #     print(g, nam, q)\n",
    "        U = Operator(g[0]).data\n",
    "        termlist = []\n",
    "    #     print(U.shape)\n",
    "        for r in range(U.shape[0]):\n",
    "            for c in range(U.shape[1]):\n",
    "                if U[r][c] != 0:\n",
    "                    ref = genRef(r,c,len(q), var_list, vars_num, q, curr_output)\n",
    "                    termlist.append(Term(U[r][c], ref))\n",
    "        internal_vars = var_list[curr_output*vars_num:(curr_output+1)*vars_num]\n",
    "#         curr_output += 1\n",
    "        curr_output = 2 if curr_output == 1 else 1\n",
    "        cvbe = CVBE(termlist)\n",
    "        if circ_cvbe == None:\n",
    "            circ_cvbe = cvbe\n",
    "        else:\n",
    "            circ_cvbe = circ_cvbe.sequential(cvbe, internal_vars)\n",
    "    #         circ_cvbe = circ_cvbe.tensor(cvbe)\n",
    "#         print(circ_cvbe.termdict.keys())\n",
    "    return circ_cvbe"
   ]
  },
  {
   "cell_type": "code",
   "execution_count": 9,
   "metadata": {},
   "outputs": [
    {
     "name": "stdout",
     "output_type": "stream",
     "text": [
      "2 2\n",
      "8\n",
      "[And(And(Or(And(Not(0), Not(1)),\n",
      "           And(Not(0), 1),\n",
      "           And(0, Not(1))),\n",
      "        Or(And(Not(1), Not(2)),\n",
      "           And(Not(1), 2),\n",
      "           And(1, Not(2)))),\n",
      "    Not(1)), And(And(Or(And(Not(0), Not(1)),\n",
      "           And(Not(0), 1),\n",
      "           And(0, Not(1))),\n",
      "        Or(And(Not(1), Not(2)),\n",
      "           And(Not(1), 2),\n",
      "           And(1, Not(2)))),\n",
      "    1), And(And(Or(And(Not(0), Not(1)),\n",
      "           And(Not(0), 1),\n",
      "           And(0, Not(1))),\n",
      "        And(1, 2)),\n",
      "    Not(1)), And(And(Or(And(Not(0), Not(1)),\n",
      "           And(Not(0), 1),\n",
      "           And(0, Not(1))),\n",
      "        And(1, 2)),\n",
      "    1), And(And(And(0, 1),\n",
      "        Or(And(Not(1), Not(2)),\n",
      "           And(Not(1), 2),\n",
      "           And(1, Not(2)))),\n",
      "    Not(1)), And(And(And(0, 1),\n",
      "        Or(And(Not(1), Not(2)),\n",
      "           And(Not(1), 2),\n",
      "           And(1, Not(2)))),\n",
      "    1), And(And(And(0, 1), And(1, 2)), Not(1)), And(And(And(0, 1), And(1, 2)), 1)]\n"
     ]
    },
    {
     "name": "stderr",
     "output_type": "stream",
     "text": [
      "<ipython-input-4-77c3d43aa436>:27: DeprecationWarning: Back-references to from Bit instances to their containing Registers have been deprecated. Instead, inspect Registers to find their contained Bits.\n",
      "  q=max(q,max([qbit.index for qbit in gates[k][1]]))\n",
      "<ipython-input-8-99298ce1e105>:14: DeprecationWarning: Back-references to from Bit instances to their containing Registers have been deprecated. Instead, inspect Registers to find their contained Bits.\n",
      "  q = [q.index for q in g[1]] # involved qubits of the gate\n"
     ]
    }
   ],
   "source": [
    "cvbe0 = gen_cvbe(circ0)\n",
    "# cvbe0.regularize()\n",
    "# cvbe1 = gen_cvbe(circ1)\n",
    "# cvbe1.regularize()"
   ]
  },
  {
   "cell_type": "code",
   "execution_count": 10,
   "metadata": {},
   "outputs": [],
   "source": [
    "# cvbe0.equals(cvbe1)"
   ]
  },
  {
   "cell_type": "code",
   "execution_count": 11,
   "metadata": {},
   "outputs": [
    {
     "data": {
      "text/plain": [
       "{(0.4999999999999999+0j): <__main__.Term at 0x19ee2c2f8b0>,\n",
       " (-0.4999999999999999+0j): <__main__.Term at 0x19ee2c62c70>}"
      ]
     },
     "execution_count": 11,
     "metadata": {},
     "output_type": "execute_result"
    }
   ],
   "source": [
    "cvbe0.termdict"
   ]
  },
  {
   "cell_type": "code",
   "execution_count": null,
   "metadata": {},
   "outputs": [],
   "source": []
  },
  {
   "cell_type": "code",
   "execution_count": 12,
   "metadata": {},
   "outputs": [
    {
     "data": {
      "text/html": [
       "<b>unsat</b>"
      ],
      "text/plain": [
       "unsat"
      ]
     },
     "execution_count": 12,
     "metadata": {},
     "output_type": "execute_result"
    }
   ],
   "source": [
    "a, b, c = Bools('a b c')\n",
    "x = Or(a, Exists([a,c],And(a,b,c)))\n",
    "y = Or(a, b)\n",
    "solver = Solver()\n",
    "solver.add(x!=y)\n",
    "solver.check()"
   ]
  },
  {
   "cell_type": "code",
   "execution_count": 13,
   "metadata": {},
   "outputs": [],
   "source": [
    "f = Function('f', BoolSort(), BoolSort(), BoolSort(), BoolSort(), BoolSort(), BoolSort())"
   ]
  },
  {
   "cell_type": "code",
   "execution_count": 14,
   "metadata": {},
   "outputs": [
    {
     "data": {
      "text/html": [
       "f(a, a, a, a, a)"
      ],
      "text/plain": [
       "f(a, a, a, a, a)"
      ]
     },
     "execution_count": 14,
     "metadata": {},
     "output_type": "execute_result"
    }
   ],
   "source": [
    "f(a, a, a, a, a)"
   ]
  },
  {
   "cell_type": "code",
   "execution_count": 15,
   "metadata": {},
   "outputs": [
    {
     "name": "stdout",
     "output_type": "stream",
     "text": [
      "[x = 0, y = 1, f = [1 -> 0, else -> 1]]\n"
     ]
    }
   ],
   "source": [
    "x = Int('x')\n",
    "y = Int('y')\n",
    "f = Function('f', IntSort(), IntSort())\n",
    "solve(f(f(x)) == x, f(x) == y, x != y)"
   ]
  },
  {
   "cell_type": "code",
   "execution_count": 16,
   "metadata": {},
   "outputs": [
    {
     "data": {
      "text/html": [
       "<b>sat</b>"
      ],
      "text/plain": [
       "sat"
      ]
     },
     "execution_count": 16,
     "metadata": {},
     "output_type": "execute_result"
    }
   ],
   "source": [
    "a, b, c = Bools('a b c')\n",
    "x = Or(And(a, b), And(b, c))\n",
    "solver = Solver()\n",
    "solver.add(x)\n",
    "solver.add(a==False)\n",
    "solver.check()"
   ]
  },
  {
   "cell_type": "code",
   "execution_count": 17,
   "metadata": {},
   "outputs": [],
   "source": [
    "Z = BoolSort()\n"
   ]
  },
  {
   "cell_type": "code",
   "execution_count": 18,
   "metadata": {},
   "outputs": [
    {
     "data": {
      "text/html": [
       "a!0 &and; b &and; c"
      ],
      "text/plain": [
       "And(a!0, b, c)"
      ]
     },
     "execution_count": 18,
     "metadata": {},
     "output_type": "execute_result"
    }
   ],
   "source": [
    "a, b, c = Bools('a b c')\n",
    "q = Exists([a],And(a,b,c))\n",
    "r = Tactic('nnf')(q).as_expr()\n",
    "r"
   ]
  },
  {
   "cell_type": "code",
   "execution_count": 19,
   "metadata": {},
   "outputs": [
    {
     "data": {
      "text/plain": [
       "z3.z3.BoolRef"
      ]
     },
     "execution_count": 19,
     "metadata": {},
     "output_type": "execute_result"
    }
   ],
   "source": [
    "type(r)"
   ]
  },
  {
   "cell_type": "code",
   "execution_count": 20,
   "metadata": {},
   "outputs": [
    {
     "data": {
      "text/html": [
       "&exist;a : a &and; b &and; c"
      ],
      "text/plain": [
       "Exists(a, And(a, b, c))"
      ]
     },
     "execution_count": 20,
     "metadata": {},
     "output_type": "execute_result"
    }
   ],
   "source": [
    "q"
   ]
  },
  {
   "cell_type": "code",
   "execution_count": null,
   "metadata": {},
   "outputs": [],
   "source": []
  }
 ],
 "metadata": {
  "kernelspec": {
   "display_name": "Python 3",
   "language": "python",
   "name": "python3"
  },
  "language_info": {
   "codemirror_mode": {
    "name": "ipython",
    "version": 3
   },
   "file_extension": ".py",
   "mimetype": "text/x-python",
   "name": "python",
   "nbconvert_exporter": "python",
   "pygments_lexer": "ipython3",
   "version": "3.8.3"
  }
 },
 "nbformat": 4,
 "nbformat_minor": 4
}
