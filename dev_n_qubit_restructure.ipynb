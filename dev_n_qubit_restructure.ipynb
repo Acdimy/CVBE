{
 "cells": [
  {
   "cell_type": "code",
   "execution_count": 1,
   "metadata": {},
   "outputs": [],
   "source": [
    "import numpy as np\n",
    "from qiskit import QuantumCircuit\n",
    "from qiskit.quantum_info.operators import Operator\n",
    "from z3 import *\n",
    "import time"
   ]
  },
  {
   "cell_type": "code",
   "execution_count": 2,
   "metadata": {
    "scrolled": true
   },
   "outputs": [
    {
     "data": {
      "image/png": "[encoded data removed]",
      "text/plain": [
       "<Figure size 267.052x144.48 with 1 Axes>"
      ]
     },
     "execution_count": 2,
     "metadata": {},
     "output_type": "execute_result"
    }
   ],
   "source": [
    "circ0 = QuantumCircuit().from_qasm_file('benchmark/test_cz.qasm')\n",
    "circ0.draw('mpl')"
   ]
  },
  {
   "cell_type": "code",
   "execution_count": 3,
   "metadata": {},
   "outputs": [
    {
     "data": {
      "text/plain": [
       "(Instruction(name='h', num_qubits=1, num_clbits=0, params=[]),\n",
       " [Qubit(QuantumRegister(2, 'q'), 1)],\n",
       " [])"
      ]
     },
     "execution_count": 3,
     "metadata": {},
     "output_type": "execute_result"
    }
   ],
   "source": [
    "circ0.data[0]"
   ]
  },
  {
   "cell_type": "code",
   "execution_count": 4,
   "metadata": {},
   "outputs": [
    {
     "data": {
      "image/png": "[encoded data removed]",
      "text/plain": [
       "<Figure size 146.652x144.48 with 1 Axes>"
      ]
     },
     "execution_count": 4,
     "metadata": {},
     "output_type": "execute_result"
    }
   ],
   "source": [
    "circ1 = QuantumCircuit().from_qasm_file('benchmark/test_cz_1.qasm')\n",
    "circ1.draw('mpl')"
   ]
  },
  {
   "cell_type": "code",
   "execution_count": 5,
   "metadata": {},
   "outputs": [],
   "source": [
    "# circ2 = QuantumCircuit().from_qasm_file('test2.qasm')\n",
    "# circ2.draw('mpl')"
   ]
  },
  {
   "cell_type": "code",
   "execution_count": 6,
   "metadata": {},
   "outputs": [],
   "source": [
    "def is_diagonal(U):\n",
    "    i, j = np.nonzero(U)\n",
    "    return np.all(i == j)\n",
    "\n",
    "def add_hyper_index(var_list,hyper_index):\n",
    "    for var in var_list:\n",
    "        if not var in hyper_index:\n",
    "            hyper_index[var]=0\n",
    "            \n",
    "def reshape(U):\n",
    "    if U.shape==(2,2):\n",
    "        return U\n",
    "    \n",
    "    if U.shape[0]==U.shape[1]:\n",
    "        split_U=np.split(U,2,1)\n",
    "    else:\n",
    "        split_U=np.split(U,2,0)\n",
    "    split_U[0]=reshape(split_U[0])\n",
    "    split_U[1]=reshape(split_U[1]) \n",
    "    return np.array([split_U])[0]            \n",
    "            \n",
    "def get_real_qubit_num(cir):\n",
    "    \"\"\"Calculate the real number of qubits of a circuit\"\"\"\n",
    "    gates=cir.data\n",
    "    q=0\n",
    "    for k in range(len(gates)):\n",
    "        q=max(q,max([qbit.index for qbit in gates[k][1]]))\n",
    "    return q+1\n",
    "\n",
    "def cmp_term(x, y):\n",
    "    if x.attr.real > y.attr.real:\n",
    "        return 1\n",
    "    elif x.attr.real == y.attr.real:\n",
    "        if x.attr.imag > y.attr.imag:\n",
    "            return 1\n",
    "        elif x.attr.imag == y.attr.imag:\n",
    "            return 0\n",
    "        else:\n",
    "            return -1\n",
    "    else:\n",
    "        return -1"
   ]
  },
  {
   "cell_type": "code",
   "execution_count": 7,
   "metadata": {},
   "outputs": [],
   "source": [
    "class Term:\n",
    "    def __init__(self, attr=0.+0.j, ref=None):\n",
    "        self.attr = attr\n",
    "        self.ref = ref\n",
    "    def tensor(self, t1=None):\n",
    "        attr1 = self.attr * t1.attr\n",
    "        ref1 = And(self.ref, t1.ref)\n",
    "        return Term(attr1, ref1)\n",
    "    def exist(self, ex_var, boolref):\n",
    "        exp_exist = Then('qe','simplify')(Exists([ex_var], boolref)).as_expr()\n",
    "        exp_forall = Then('qe','simplify')(ForAll([ex_var], boolref)).as_expr()\n",
    "        res = []\n",
    "        solver = Solver()\n",
    "        solver.add(exp_exist)\n",
    "        if solver.check() == z3.sat:\n",
    "            res.append(exp_exist)\n",
    "        solver = Solver()\n",
    "        solver.add(exp_forall)\n",
    "        if solver.check() == z3.sat:\n",
    "            res.append(exp_forall)\n",
    "        return res\n",
    "    def sequential(self, t1=None, ex_list=[]): # ex_list: vars\n",
    "        attr1 = self.attr * t1.attr\n",
    "        ref_0 = And(self.ref, t1.ref)\n",
    "        res_refs = [ref_0]\n",
    "        for ex_var in ex_list:\n",
    "            new_res_refs = []\n",
    "            for curr_ref in res_refs:\n",
    "                new_res_refs += self.exist(ex_var, curr_ref)\n",
    "            res_refs = new_res_refs\n",
    "        res_terms = [Term(attr1, ref_i) for ref_i in res_refs] # Here simplify\n",
    "        return res_terms\n",
    "    def simplify(self):\n",
    "        ref_new = simplify(self.ref)\n",
    "        self.ref = ref_new\n",
    "    def equalattr(self, t1=None):\n",
    "        return self.attr == t1.attr\n",
    "    def is_neg(self):\n",
    "        solver = Solver()\n",
    "        solver.add(self.ref)\n",
    "        if solver.check() == z3.sat:\n",
    "            return False\n",
    "        return True\n",
    "#     def equalref(self, t1=None):\n",
    "#         # check ref equivalence\n",
    "#         return False\n",
    "#     def contra(self, t1=None):\n",
    "#         # check conrtradictoriness\n",
    "#         return False\n",
    "#     def shrink(self):\n",
    "#         # simplify ref\n",
    "#         pass\n",
    "#     def reduce(self, t1=None):\n",
    "#         if self.equalref(t1):\n",
    "#             return Term(self.attr+t1.attr, self.ref)\n",
    "#         elif self.contra(t1) and self.equalattr(t1):\n",
    "#             pass\n",
    "#         pass"
   ]
  },
  {
   "cell_type": "code",
   "execution_count": 8,
   "metadata": {},
   "outputs": [],
   "source": [
    "def genRef(r, c, input_qubits, var_list, tt_input_num, q, curr_output):\n",
    "    bias_in = curr_output\n",
    "    bias_out = 2 if curr_output == 1 else 1\n",
    "    input_vars = bin(r)[2:]\n",
    "    if len(input_vars) < input_qubits:\n",
    "        input_vars = '0'*(input_qubits-len(input_vars)) + input_vars\n",
    "    output_vars = bin(c)[2:]\n",
    "    if len(output_vars) < input_qubits:\n",
    "        output_vars = '0'*(input_qubits-len(output_vars)) + output_vars\n",
    "    reslist = []\n",
    "    for i,e in enumerate(input_vars):\n",
    "        if e == '1':\n",
    "            reslist.append(var_list[q[i]+bias_in*tt_input_num])\n",
    "        else:\n",
    "            reslist.append(Not(var_list[q[i]+bias_in*tt_input_num]))\n",
    "    for i,e in enumerate(output_vars):\n",
    "        if e == '1':\n",
    "            reslist.append(var_list[q[i]+bias_out*tt_input_num])\n",
    "        else:\n",
    "            reslist.append(Not(var_list[q[i]+bias_out*tt_input_num]))\n",
    "    return And(tuple(reslist))"
   ]
  },
  {
   "cell_type": "code",
   "execution_count": 9,
   "metadata": {},
   "outputs": [],
   "source": [
    "from functools import cmp_to_key\n",
    "\n",
    "class CVBE:\n",
    "    def __init__(self, termlist=[], mode=0): # Assume that terms are already regularized\n",
    "        if mode == 0:\n",
    "            self.term_list = self.deduplicate(termlist)\n",
    "            self.regularized = 1\n",
    "        else:\n",
    "            self.term_list = termlist\n",
    "            self.regularized = 0\n",
    "    def deduplicate(self, termlist=[]):\n",
    "        termdict = {}\n",
    "        for term in termlist:\n",
    "            if term.attr not in termdict:\n",
    "                termdict[term.attr] = [term]\n",
    "            else:\n",
    "                termdict[term.attr].append(term)\n",
    "        for attr in termdict:\n",
    "            if len(termdict[attr]) > 1:\n",
    "                term_rd = Term(attr, Or(tuple([t.ref for t in termdict[attr]])))\n",
    "                termdict[attr] = term_rd\n",
    "            else:\n",
    "                termdict[attr] = termdict[attr][0]\n",
    "        return list(termdict.values())\n",
    "    def reduce(self):\n",
    "#         print('Origin: ', len(self.term_list))\n",
    "#         print(len(self.term_list))\n",
    "        term_list_new = []\n",
    "        for term in self.term_list:\n",
    "            if not term.is_neg():\n",
    "                term_list_new.append(term)\n",
    "        self.term_list = term_list_new\n",
    "#         print('After: ', len(self.term_list))\n",
    "    def simplify(self):\n",
    "        for term in self.term_list:\n",
    "            term.simplify()\n",
    "    def regularize(self, termlist=[]):\n",
    "        if termlist == []:\n",
    "            termlist = self.term_list # len > 0\n",
    "        ref_list = [term.ref for term in termlist]\n",
    "        attr_list = [term.attr for term in termlist]\n",
    "        term_num = len(termlist)\n",
    "        ref_new_list, attr_new_list = [ref_list[0]], [attr_list[0]]\n",
    "        for i in range(1, term_num): # curr_ref: ref_list[i]\n",
    "            ref_new = ref_list[i]\n",
    "            curr_term_num = len(ref_new_list)\n",
    "            for j in range(curr_term_num):\n",
    "                ref_new = And(ref_new, Not(ref_new_list[j]))\n",
    "                if attr_list[i] + attr_new_list[j] != 0:\n",
    "                    ref_update0 = And(ref_list[i], ref_new_list[j])\n",
    "                    ref_new_list.append(ref_update0)\n",
    "                    attr_new_list.append(attr_list[i]+attr_new_list[j])\n",
    "#                     print('Here come in: ', attr_list[i], attr_new_list[j])\n",
    "                ref_update1 = And(Not(ref_list[i]), ref_new_list[j])\n",
    "                ref_new_list.append(ref_update1)\n",
    "                attr_new_list.append(attr_new_list[j])\n",
    "            ref_new_list.append(ref_new)\n",
    "            attr_new_list.append(attr_list[i])\n",
    "            ref_new_list = ref_new_list[curr_term_num:]\n",
    "            attr_new_list = attr_new_list[curr_term_num:]\n",
    "            #\n",
    "            term_temp_list = [Term(attr_new_list[i], ref_new_list[i]) for i in range(len(ref_new_list))]\n",
    "            term_dedup_list = self.deduplicate(term_temp_list)\n",
    "            ## Order!\n",
    "            ref_new_list = [term.ref for term in term_dedup_list]\n",
    "            attr_new_list = [term.attr for term in term_dedup_list]\n",
    "        term_new_list = [Term(attr_new_list[i], ref_new_list[i]) for i in range(len(ref_new_list))]\n",
    "        ### TERM MERGE!!!\n",
    "        term_dedup_list = self.deduplicate(term_new_list)\n",
    "        self.term_list = term_dedup_list\n",
    "    def equals(self, c1, threshold=0.001):\n",
    "        if len(self.term_list) != len(c1.term_list):\n",
    "            return False\n",
    "        length = len(self.term_list)\n",
    "        termlist0 = sorted(self.term_list, key=cmp_to_key(cmp_term))\n",
    "        termlist1 = sorted(c1.term_list, key=cmp_to_key(cmp_term))\n",
    "        print([term.attr for term in termlist0])\n",
    "        print([term.attr for term in termlist1])\n",
    "        res = True\n",
    "        for i in range(len(termlist0)):\n",
    "            attr_diff = termlist0[i].attr-termlist1[i].attr\n",
    "            if abs(attr_diff.real) + abs(attr_diff.imag) >= threshold:\n",
    "                print('attr_diff: ', attr_diff)\n",
    "                res = False\n",
    "            solver = Solver()\n",
    "            solver.add(termlist0[i].ref!=termlist1[i].ref)\n",
    "            if solver.check() == z3.sat:\n",
    "                print(termlist0[i])\n",
    "                print(termlist1[i])\n",
    "                print(solver.model())\n",
    "                res = False\n",
    "            if res == False:\n",
    "                return res\n",
    "        return res\n",
    "    def tensor(self, c1):\n",
    "        termlist1 = []\n",
    "        for term1 in self.term_list:\n",
    "            for term2 in c1.term_list:\n",
    "                termlist1.append(term1.tensor(term2))\n",
    "        return CVBE(termlist1)\n",
    "    def sequential(self, c1, ex_list=[]):\n",
    "        termlist1 = []\n",
    "#         print(len(self.term_list), len(c1.term_list))\n",
    "        for term1 in self.term_list:\n",
    "            for term2 in c1.term_list:\n",
    "                termlist1 += (term1.sequential(term2, ex_list))\n",
    "#         print('After term sequential')\n",
    "        c0 = CVBE(termlist1, 1)\n",
    "#         c0.regularize(termlist1)\n",
    "#         c0.reduce()\n",
    "        c0.simplify()\n",
    "        return c0\n",
    "#     @classmathod\n",
    "#     def identity(cls):\n",
    "#         pass"
   ]
  },
  {
   "cell_type": "code",
   "execution_count": 10,
   "metadata": {},
   "outputs": [],
   "source": [
    "def convert2cnf(exp):\n",
    "    s1 = Solver()\n",
    "    s2 = Solver()\n",
    "    s1.add(Not(exp))\n",
    "    s2.add(Not(And(s1.assertions())))\n",
    "    s2.set(\"core.minimize\", True)\n",
    "\n",
    "    clauses = []\n",
    "    while sat == s1.check():\n",
    "        mdl = s1.model()\n",
    "        decls = mdl.decls()\n",
    "        core = [d() for d in decls if is_true(mdl[d])] + [Not(d()) for d in decls if is_false(mdl[d])] \n",
    "        assert unsat == s2.check(core)\n",
    "        clause = Or([mk_not(c) for c in s2.unsat_core()])\n",
    "        clauses += [clause]\n",
    "        s1.add(clause)\n",
    "    return clauses"
   ]
  },
  {
   "cell_type": "code",
   "execution_count": 11,
   "metadata": {},
   "outputs": [],
   "source": [
    "def print_cvbe(cvbe):\n",
    "    for term in cvbe.term_list:\n",
    "        print(term.attr, convert2cnf(term.ref))"
   ]
  },
  {
   "cell_type": "code",
   "execution_count": 12,
   "metadata": {},
   "outputs": [],
   "source": [
    "def init_cir(circ):\n",
    "    qubits_num = get_real_qubit_num(circ)\n",
    "    vars_num = qubits_num\n",
    "    var_list = []\n",
    "    for i in range(3*vars_num):\n",
    "        var_list.append(Bool(str(i)))\n",
    "    gates = circ.data\n",
    "    gates_layer_list = [[]]\n",
    "    head_ptr = [0]*qubits_num\n",
    "    curr_head = 0\n",
    "    for k in range(len(gates)):\n",
    "        g = gates[k]\n",
    "        q = [q.index for q in g[1]]\n",
    "        if len(q) == 1:\n",
    "            head_ptr[q[0]] += 1\n",
    "        else:\n",
    "            head_ptr[q[0]] = head_ptr[q[1]] = max(head_ptr[q[0]], head_ptr[q[1]]) + 1\n",
    "        if head_ptr[q[0]] > curr_head:\n",
    "            gates_layer_list.append([g])\n",
    "            curr_head += 1\n",
    "        else:\n",
    "            gates_layer_list[head_ptr[q[0]]].append(g)\n",
    "    return gates_layer_list,vars_num,var_list"
   ]
  },
  {
   "cell_type": "code",
   "execution_count": 13,
   "metadata": {},
   "outputs": [],
   "source": [
    "def gen_cvbe_from_layer(gates_list, vars_num, var_list, curr_output):\n",
    "    circ_cvbe = None\n",
    "    uninvolved_q = [1]*vars_num\n",
    "    bias_out = 2 if curr_output == 1 else 1\n",
    "    for g in gates_list:\n",
    "        nam = g[0].name\n",
    "        q = [q.index for q in g[1]]\n",
    "        if nam == 'cx': # ***\n",
    "            tmp = q[0]\n",
    "            q[0] = q[1]\n",
    "            q[1] = tmp\n",
    "        for idx in q:\n",
    "            uninvolved_q[idx] = 0\n",
    "        U = Operator(g[0]).data\n",
    "        termlist = []\n",
    "        for r in range(U.shape[0]):\n",
    "            for c in range(U.shape[1]):\n",
    "                if U[r][c] != 0:\n",
    "                    ref = genRef(r,c,len(q), var_list, vars_num, q, curr_output)\n",
    "                    termlist.append(Term(U[r][c], ref))\n",
    "        cvbe = CVBE(termlist)\n",
    "        if circ_cvbe == None:\n",
    "            circ_cvbe = cvbe\n",
    "        else:\n",
    "            circ_cvbe = circ_cvbe.tensor(cvbe)\n",
    "    identity_list = []\n",
    "    for i in range(len(uninvolved_q)):\n",
    "        if uninvolved_q[i] != 0:\n",
    "            var_in = var_list[curr_output*vars_num+i]\n",
    "            var_out = var_list[bias_out*vars_num+i]\n",
    "            identity_list.append(var_in==var_out)\n",
    "    if len(identity_list) != 0:\n",
    "        identity_cvbe = CVBE([Term(1, And(tuple(identity_list)))])\n",
    "        circ_cvbe = circ_cvbe.tensor(identity_cvbe)\n",
    "    return circ_cvbe"
   ]
  },
  {
   "cell_type": "code",
   "execution_count": 14,
   "metadata": {},
   "outputs": [],
   "source": [
    "def gen_cvbe(circ):\n",
    "    gates_layer_list,vars_num,var_list = init_cir(circ)\n",
    "    curr_output = 0\n",
    "    circ_cvbe = None\n",
    "    for ii,layer in enumerate(gates_layer_list[1:]):\n",
    "#         print(ii, 'layer')\n",
    "#         if ii == 15:\n",
    "#             break\n",
    "        cvbe = gen_cvbe_from_layer(layer, vars_num, var_list, curr_output)\n",
    "        cvbe.simplify()\n",
    "        internal_vars = var_list[curr_output*vars_num:(curr_output+1)*vars_num]\n",
    "        curr_output = 2 if curr_output == 1 else 1\n",
    "        if circ_cvbe == None:\n",
    "            circ_cvbe = cvbe\n",
    "        else:\n",
    "            circ_cvbe = circ_cvbe.sequential(cvbe, internal_vars)\n",
    "#         print_cvbe(circ_cvbe)\n",
    "    return circ_cvbe"
   ]
  },
  {
   "cell_type": "code",
   "execution_count": 15,
   "metadata": {},
   "outputs": [
    {
     "name": "stderr",
     "output_type": "stream",
     "text": [
      "<ipython-input-6-367347847b43>:27: DeprecationWarning: Back-references to from Bit instances to their containing Registers have been deprecated. Instead, inspect Registers to find their contained Bits.\n",
      "  q=max(q,max([qbit.index for qbit in gates[k][1]]))\n",
      "<ipython-input-12-874bfb59c1be>:13: DeprecationWarning: Back-references to from Bit instances to their containing Registers have been deprecated. Instead, inspect Registers to find their contained Bits.\n",
      "  q = [q.index for q in g[1]]\n",
      "<ipython-input-13-a1c398cb5b8f>:7: DeprecationWarning: Back-references to from Bit instances to their containing Registers have been deprecated. Instead, inspect Registers to find their contained Bits.\n",
      "  q = [q.index for q in g[1]]\n"
     ]
    }
   ],
   "source": [
    "cvbe0 = gen_cvbe(circ0)\n",
    "cvbe0.regularize()\n",
    "cvbe0.reduce()\n",
    "cvbe1 = gen_cvbe(circ1)\n",
    "cvbe1.regularize()\n",
    "cvbe1.reduce()"
   ]
  },
  {
   "cell_type": "code",
   "execution_count": 16,
   "metadata": {},
   "outputs": [
    {
     "name": "stdout",
     "output_type": "stream",
     "text": [
      "[(-0.9999999999999998+0j), (0.9999999999999998+0j)]\n",
      "[(-1+0j), (1+0j)]\n"
     ]
    },
    {
     "data": {
      "text/plain": [
       "True"
      ]
     },
     "execution_count": 16,
     "metadata": {},
     "output_type": "execute_result"
    }
   ],
   "source": [
    "cvbe0.equals(cvbe1)"
   ]
  },
  {
   "cell_type": "code",
   "execution_count": 17,
   "metadata": {},
   "outputs": [],
   "source": [
    "# print_cvbe(cvbe0)"
   ]
  },
  {
   "cell_type": "code",
   "execution_count": 18,
   "metadata": {},
   "outputs": [],
   "source": [
    "# print_cvbe(cvbe1)"
   ]
  },
  {
   "cell_type": "code",
   "execution_count": 24,
   "metadata": {},
   "outputs": [],
   "source": [
    "def convert2dnf(exp):\n",
    "    pass"
   ]
  },
  {
   "cell_type": "code",
   "execution_count": 25,
   "metadata": {},
   "outputs": [],
   "source": [
    "# ref = cvbe0.term_list[0].ref"
   ]
  },
  {
   "cell_type": "code",
   "execution_count": 26,
   "metadata": {},
   "outputs": [],
   "source": [
    "# simplify(ref)"
   ]
  },
  {
   "cell_type": "code",
   "execution_count": 27,
   "metadata": {},
   "outputs": [],
   "source": [
    "# from z3 import *\n",
    "\n",
    "# s1 = Solver()\n",
    "# s2 = Solver()\n",
    "# # s1.from_string(fml)\n",
    "# s1.add(ref)\n",
    "# # print(s1)\n",
    "# s2.add(Not(And(s1.assertions())))\n",
    "# s2.set(\"core.minimize\", True)\n",
    "\n",
    "# clauses = []\n",
    "# while sat == s1.check():\n",
    "#     mdl = s1.model()\n",
    "#     decls = mdl.decls()\n",
    "#     core = [d() for d in decls if is_true(mdl[d])] + [Not(d()) for d in decls if is_false(mdl[d])] \n",
    "#     assert unsat == s2.check(core)\n",
    "#     clause = Or([mk_not(c) for c in s2.unsat_core()])\n",
    "#     clauses += [clause]\n",
    "#     s1.add(clause)\n",
    "\n",
    "\n",
    "# for c in clauses:\n",
    "#     print(c)"
   ]
  },
  {
   "cell_type": "code",
   "execution_count": 28,
   "metadata": {},
   "outputs": [],
   "source": [
    "# ref1 = cvbe1.term_list[0].ref\n",
    "# ref1"
   ]
  },
  {
   "cell_type": "code",
   "execution_count": 29,
   "metadata": {},
   "outputs": [],
   "source": [
    "# from z3 import *\n",
    "\n",
    "# a,b,c,d = Bools('a b c d')\n",
    "# ref = And(a, b, c, d)\n",
    "# s1 = Solver()\n",
    "# s2 = Solver()\n",
    "# # s1.from_string(fml)\n",
    "# s1.add(ref)\n",
    "# # print(s1)\n",
    "# s2.add(Not(And(s1.assertions())))\n",
    "# s2.set(\"core.minimize\", True)\n",
    "\n",
    "# clauses = []\n",
    "# while sat == s1.check():\n",
    "#     mdl = s1.model()\n",
    "# #     print(mdl)\n",
    "#     decls = mdl.decls()\n",
    "# #     print(decls)\n",
    "#     core = [d() for d in decls if is_true(mdl[d])] + [Not(d()) for d in decls if is_false(mdl[d])] \n",
    "#     assert unsat == s2.check(core)\n",
    "#     clause = Or([mk_not(c) for c in s2.unsat_core()])\n",
    "# #     print(clause)\n",
    "#     clauses += [clause]\n",
    "#     s1.add(clause)\n",
    "\n",
    "\n",
    "# for c in clauses:\n",
    "#     print(c)"
   ]
  },
  {
   "cell_type": "code",
   "execution_count": 30,
   "metadata": {},
   "outputs": [],
   "source": [
    "# s1"
   ]
  },
  {
   "cell_type": "code",
   "execution_count": 31,
   "metadata": {},
   "outputs": [],
   "source": [
    "# from z3 import *\n",
    "\n",
    "# s3 = Solver()\n",
    "# s3.add(ref1)\n",
    "# s4 = Solver()\n",
    "# s4.add(Not(And(s3.assertions())))\n",
    "# s4.set(\"core.minimize\", True)\n",
    "# assert sat == s3.check()\n",
    "# mdl = s3.model()\n",
    "# print(mdl)\n",
    "# decls = mdl.decls()\n",
    "# print(decls)\n",
    "# core = [d() for d in decls if is_true(mdl[d])] + [Not(d()) for d in decls if is_false(mdl[d])]\n",
    "# print(core)\n",
    "# assert unsat == s4.check(core)\n",
    "# unsat_core = s4.unsat_core()\n",
    "# print(unsat_core)\n",
    "# clause = Or([mk_not(c) for c in unsat_core])\n",
    "# print(clause)"
   ]
  },
  {
   "cell_type": "code",
   "execution_count": 32,
   "metadata": {},
   "outputs": [
    {
     "data": {
      "text/plain": [
       "[Or(Not(a), c),\n",
       " Or(a, Not(c)),\n",
       " Or(b, d, Not(c)),\n",
       " Or(c, Not(b), d),\n",
       " Or(Not(d), Not(b), Not(c)),\n",
       " Or(c, b, Not(d))]"
      ]
     },
     "execution_count": 32,
     "metadata": {},
     "output_type": "execute_result"
    }
   ],
   "source": [
    "a,b,c,d = Bools('a b c d')\n",
    "# ref = Or(And(Not(a), b, Not(c), d), And(a, b, c, d))\n",
    "ref = Or(And(Not(a), Not(b), Not(c), Not(d)), And(Not(a), b, Not(c), d), And(a, Not(b), c, d), And(a, b, c, Not(d)))\n",
    "convert2cnf(ref)"
   ]
  },
  {
   "cell_type": "code",
   "execution_count": 35,
   "metadata": {},
   "outputs": [
    {
     "data": {
      "text/html": [
       "[[&not;a,\n",
       "  a &or; &not;c,\n",
       "  b &or; d &or; &not;c,\n",
       "  c &or; &not;b &or; d,\n",
       "  &not;d &or; &not;b &or; &not;c,\n",
       "  c &or; b &or; &not;d],\n",
       " [c,\n",
       "  a &or; &not;c,\n",
       "  b &or; d &or; &not;c,\n",
       "  c &or; &not;b &or; d,\n",
       "  &not;d &or; &not;b &or; &not;c,\n",
       "  c &or; b &or; &not;d]]"
      ],
      "text/plain": [
       "[[Not(a),\n",
       "  Or(a, Not(c)),\n",
       "  Or(b, d, Not(c)),\n",
       "  Or(c, Not(b), d),\n",
       "  Or(Not(d), Not(b), Not(c)),\n",
       "  Or(c, b, Not(d))],\n",
       " [c,\n",
       "  Or(a, Not(c)),\n",
       "  Or(b, d, Not(c)),\n",
       "  Or(c, Not(b), d),\n",
       "  Or(Not(d), Not(b), Not(c)),\n",
       "  Or(c, b, Not(d))]]"
      ]
     },
     "execution_count": 35,
     "metadata": {},
     "output_type": "execute_result"
    }
   ],
   "source": [
    "x = And(Or(Not(a), c),Or(a, Not(c)),Or(b, d, Not(c)),Or(c, Not(b), d),Or(Not(d), Not(b), Not(c)),Or(c, b, Not(d)))\n",
    "t = Tactic('split-clause')\n",
    "t(x)"
   ]
  },
  {
   "cell_type": "code",
   "execution_count": null,
   "metadata": {},
   "outputs": [],
   "source": []
  }
 ],
 "metadata": {
  "kernelspec": {
   "display_name": "Python 3",
   "language": "python",
   "name": "python3"
  },
  "language_info": {
   "codemirror_mode": {
    "name": "ipython",
    "version": 3
   },
   "file_extension": ".py",
   "mimetype": "text/x-python",
   "name": "python",
   "nbconvert_exporter": "python",
   "pygments_lexer": "ipython3",
   "version": "3.8.3"
  }
 },
 "nbformat": 4,
 "nbformat_minor": 4
}
