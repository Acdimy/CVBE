{
 "cells": [
  {
   "cell_type": "code",
   "execution_count": 6,
   "metadata": {},
   "outputs": [
    {
     "name": "stdout",
     "output_type": "stream",
     "text": [
      "[And(Or(Not(e), Not(f), Not(h)),\n",
      "     Or(Not(f), Not(h), d),\n",
      "     Or(Not(e), Not(h), c),\n",
      "     Or(Not(h), d, c),\n",
      "     Or(Not(e), Not(f), Not(g), a),\n",
      "     Or(Not(f), d, Not(g), a),\n",
      "     Or(Not(e), Not(f), a, i),\n",
      "     Or(Not(f), d, a, i),\n",
      "     Or(Not(e), c, Not(g), a),\n",
      "     Or(d, c, Not(g), a),\n",
      "     Or(Not(e), c, a, i),\n",
      "     Or(d, c, a, i),\n",
      "     Or(Not(e), Not(f), a, b),\n",
      "     Or(Not(f), d, a, b),\n",
      "     Or(Not(e), c, a, b),\n",
      "     Or(d, c, a, b))]\n",
      "[d, Not(i), Not(h), Not(g), Not(b), Not(f), Not(e), Not(c), Not(a)] [d, Not(e)] Or(Not(d), e)\n",
      "[c, Not(f), Not(d)] [c, Not(f)] Or(Not(c), f)\n",
      "[i, b, Not(h), Not(e), Not(c), Not(d), Not(g)] [b, i, Not(g), Not(h)] Or(Not(b), Not(i), g, h)\n",
      "[i, a, Not(h), Not(c), Not(d), Not(b)] [a, Not(h)] Or(Not(a), h)\n",
      "Or(Not(d), e)\n",
      "Or(Not(c), f)\n",
      "Or(Not(b), Not(i), g, h)\n",
      "Or(Not(a), h)\n"
     ]
    }
   ],
   "source": [
    "from z3 import *\n",
    "fml = \"\"\"(declare-const a Bool)\n",
    "(declare-const b Bool)\n",
    "(declare-const c Bool)\n",
    "(declare-const d Bool)\n",
    "(declare-const e Bool)\n",
    "(declare-const f Bool)\n",
    "(declare-const g Bool)\n",
    "(declare-const h Bool)\n",
    "(declare-const i Bool)\n",
    "(assert \n",
    "(and (or (not e) (not f) (not h))\n",
    "          (or (not f) (not h) d)\n",
    "          (or (not e) (not h) c)\n",
    "          (or (not h) d c)\n",
    "          (or (not e) (not f) (not g) a)\n",
    "          (or (not f) d (not g) a)\n",
    "          (or (not e) (not f) a i)\n",
    "          (or (not f) d a i)\n",
    "          (or (not e) c (not g) a)\n",
    "          (or d c (not g) a)\n",
    "          (or (not e) c a i)\n",
    "          (or d c a i)\n",
    "          (or (not e) (not f) a b)\n",
    "          (or (not f) d a b)\n",
    "          (or (not e) c a b)\n",
    "          (or d c a b)))\"\"\"\n",
    "\n",
    "s1 = Solver()\n",
    "s2 = Solver()\n",
    "s1.from_string(fml)\n",
    "print(s1)\n",
    "s2.add(Not(And(s1.assertions())))\n",
    "s2.set(\"core.minimize\", True)\n",
    "\n",
    "clauses = []\n",
    "while sat == s1.check():\n",
    "    mdl = s1.model()\n",
    "    decls = mdl.decls()\n",
    "    core = [d() for d in decls if is_true(mdl[d])] + [Not(d()) for d in decls if is_false(mdl[d])] \n",
    "    assert unsat == s2.check(core)\n",
    "    T = s2.unsat_core()\n",
    "    clause = Or([mk_not(c) for c in T])\n",
    "    print(core, T, clause)\n",
    "    clauses += [clause]\n",
    "    s1.add(clause)\n",
    "\n",
    "\n",
    "for c in clauses:\n",
    "    print(c)"
   ]
  },
  {
   "cell_type": "code",
   "execution_count": 2,
   "metadata": {},
   "outputs": [],
   "source": [
    "def convert2cnf(exp):\n",
    "    s1 = Solver()\n",
    "    s2 = Solver()\n",
    "    s1.add(Not(exp))\n",
    "    s2.add(Not(And(s1.assertions())))\n",
    "    s2.set(\"core.minimize\", True)\n",
    "\n",
    "    clauses = []\n",
    "    while sat == s1.check():\n",
    "        mdl = s1.model()\n",
    "        decls = mdl.decls()\n",
    "        core = [d() for d in decls if is_true(mdl[d])] + [Not(d()) for d in decls if is_false(mdl[d])] \n",
    "        assert unsat == s2.check(core)\n",
    "        T = s2.unsat_core()\n",
    "        clause = Or([mk_not(c) for c in T])\n",
    "        print(core, T, clause)\n",
    "        clauses += [clause]\n",
    "        s1.add(clause)\n",
    "    return clauses"
   ]
  },
  {
   "cell_type": "code",
   "execution_count": 3,
   "metadata": {},
   "outputs": [],
   "source": [
    "def convert2dnf(exp):\n",
    "    pass"
   ]
  },
  {
   "cell_type": "code",
   "execution_count": 4,
   "metadata": {},
   "outputs": [],
   "source": [
    "a,b,c = Bools('a b c')\n",
    "x = Or(And(Not(a),Not(b)), And(b,c), And(a,Not(c)))"
   ]
  },
  {
   "cell_type": "code",
   "execution_count": 5,
   "metadata": {},
   "outputs": [
    {
     "name": "stdout",
     "output_type": "stream",
     "text": [
      "[b, Not(a), Not(c)] [Not(a), Not(c), b] Or(a, c, Not(b))\n",
      "[a, c, Not(b)] [Not(b), a, c] Or(b, Not(a), Not(c))\n"
     ]
    },
    {
     "data": {
      "text/plain": [
       "[Or(a, c, Not(b)), Or(b, Not(a), Not(c))]"
      ]
     },
     "execution_count": 5,
     "metadata": {},
     "output_type": "execute_result"
    }
   ],
   "source": [
    "convert2cnf(x)"
   ]
  },
  {
   "cell_type": "code",
   "execution_count": null,
   "metadata": {},
   "outputs": [],
   "source": []
  }
 ],
 "metadata": {
  "kernelspec": {
   "display_name": "Python 3",
   "language": "python",
   "name": "python3"
  },
  "language_info": {
   "codemirror_mode": {
    "name": "ipython",
    "version": 3
   },
   "file_extension": ".py",
   "mimetype": "text/x-python",
   "name": "python",
   "nbconvert_exporter": "python",
   "pygments_lexer": "ipython3",
   "version": "3.8.3"
  }
 },
 "nbformat": 4,
 "nbformat_minor": 4
}
